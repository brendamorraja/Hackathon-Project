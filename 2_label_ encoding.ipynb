{
 "cells": [
  {
   "cell_type": "code",
   "execution_count": 1,
   "id": "34b6eb9d",
   "metadata": {},
   "outputs": [
    {
     "name": "stderr",
     "output_type": "stream",
     "text": [
      "[nltk_data] Downloading package punkt to\n",
      "[nltk_data]     C:\\Users\\brend\\AppData\\Roaming\\nltk_data...\n",
      "[nltk_data]   Package punkt is already up-to-date!\n",
      "[nltk_data] Downloading package stopwords to\n",
      "[nltk_data]     C:\\Users\\brend\\AppData\\Roaming\\nltk_data...\n",
      "[nltk_data]   Package stopwords is already up-to-date!\n"
     ]
    },
    {
     "data": {
      "text/html": [
       "        <script type=\"text/javascript\">\n",
       "        window.PlotlyConfig = {MathJaxConfig: 'local'};\n",
       "        if (window.MathJax) {MathJax.Hub.Config({SVG: {font: \"STIX-Web\"}});}\n",
       "        if (typeof require !== 'undefined') {\n",
       "        require.undef(\"plotly\");\n",
       "        requirejs.config({\n",
       "            paths: {\n",
       "                'plotly': ['https://cdn.plot.ly/plotly-2.9.0.min']\n",
       "            }\n",
       "        });\n",
       "        require(['plotly'], function(Plotly) {\n",
       "            window._Plotly = Plotly;\n",
       "        });\n",
       "        }\n",
       "        </script>\n",
       "        "
      ]
     },
     "metadata": {},
     "output_type": "display_data"
    }
   ],
   "source": [
    "from funciones_scrape import *\n",
    "pd.set_option('display.max_rows', None)"
   ]
  },
  {
   "cell_type": "markdown",
   "id": "83141856",
   "metadata": {},
   "source": [
    "### label encoding"
   ]
  },
  {
   "cell_type": "code",
   "execution_count": 38,
   "id": "e3dedee1",
   "metadata": {},
   "outputs": [],
   "source": [
    "senti_07 = pd.read_csv('07_sent.csv')"
   ]
  },
  {
   "cell_type": "code",
   "execution_count": 39,
   "id": "b2f0f10b",
   "metadata": {},
   "outputs": [],
   "source": [
    "Sentiment = []\n",
    "positive_count_sad = 0\n",
    "negative_count_sad = 0"
   ]
  },
  {
   "cell_type": "code",
   "execution_count": 40,
   "id": "035ebee9",
   "metadata": {},
   "outputs": [],
   "source": [
    "for item in senti_07['Polarity']:\n",
    "    if item >= 0:\n",
    "        positive_count_sad +=1\n",
    "        Sentiment.append(\"Positivo\")\n",
    "    elif item < 0:\n",
    "        negative_count_sad +=1\n",
    "        Sentiment.append(\"Negativo\")\n",
    "        \n",
    "se = pd.Series(Sentiment)\n",
    "senti_07['Sentiment'] = se.values\n",
    "\n",
    "# Label encoding\n",
    "label_enc = LabelEncoder()\n",
    "senti_transformada = label_enc.fit_transform(senti_07['Sentiment'])\n",
    "senti_07['Encoding'] = senti_transformada"
   ]
  },
  {
   "cell_type": "code",
   "execution_count": 41,
   "id": "39046d8a",
   "metadata": {},
   "outputs": [
    {
     "name": "stdout",
     "output_type": "stream",
     "text": [
      "guardado\n"
     ]
    }
   ],
   "source": [
    "senti_07.to_csv(\"label_07.csv\")\n",
    "print(\"guardado\")"
   ]
  },
  {
   "cell_type": "code",
   "execution_count": null,
   "id": "c16ef3ae",
   "metadata": {},
   "outputs": [],
   "source": []
  },
  {
   "cell_type": "code",
   "execution_count": 49,
   "id": "e8c81c53",
   "metadata": {},
   "outputs": [],
   "source": [
    "senti_08 = pd.read_csv('08_sent.csv')\n",
    "Sentiment = []\n",
    "positive_count_sad = 0\n",
    "negative_count_sad = 0"
   ]
  },
  {
   "cell_type": "code",
   "execution_count": 50,
   "id": "947bb1eb",
   "metadata": {},
   "outputs": [],
   "source": [
    "for item in senti_08['Polarity']:\n",
    "    if item >= 0:\n",
    "        positive_count_sad +=1\n",
    "        Sentiment.append(\"Positivo\")\n",
    "    elif item < 0:\n",
    "        negative_count_sad +=1\n",
    "        Sentiment.append(\"Negativo\")"
   ]
  },
  {
   "cell_type": "code",
   "execution_count": 51,
   "id": "d5fd749c",
   "metadata": {},
   "outputs": [],
   "source": [
    "se = pd.Series(Sentiment)\n",
    "senti_08['Sentiment'] = se.values\n",
    "# Label encoding\n",
    "label_enc = LabelEncoder()\n",
    "senti_transformada = label_enc.fit_transform(senti_08['Sentiment'])\n",
    "senti_08['Encoding'] = senti_transformada\n"
   ]
  },
  {
   "cell_type": "code",
   "execution_count": 52,
   "id": "241717aa",
   "metadata": {},
   "outputs": [
    {
     "name": "stdout",
     "output_type": "stream",
     "text": [
      "guardado\n"
     ]
    }
   ],
   "source": [
    "senti_08.to_csv(\"label_08.csv\")\n",
    "print(\"guardado\")"
   ]
  },
  {
   "cell_type": "code",
   "execution_count": 54,
   "id": "6a1c8a00",
   "metadata": {},
   "outputs": [],
   "source": [
    "senti_09 = pd.read_csv('09_sent.csv')\n",
    "Sentiment = []\n",
    "positive_count_sad = 0\n",
    "negative_count_sad = 0\n",
    "\n",
    "for item in senti_09['Polarity']:\n",
    "    if item >= 0:\n",
    "        positive_count_sad +=1\n",
    "        Sentiment.append(\"Positivo\")\n",
    "    elif item < 0:\n",
    "        negative_count_sad +=1\n",
    "        Sentiment.append(\"Negativo\")\n",
    "        \n",
    "se = pd.Series(Sentiment)\n",
    "senti_09['Sentiment'] = se.values\n",
    "# Label encoding\n",
    "label_enc = LabelEncoder()\n",
    "senti_transformada = label_enc.fit_transform(senti_09['Sentiment'])\n",
    "senti_09['Encoding'] = senti_transformada\n"
   ]
  },
  {
   "cell_type": "code",
   "execution_count": 55,
   "id": "de06ef3f",
   "metadata": {},
   "outputs": [
    {
     "name": "stdout",
     "output_type": "stream",
     "text": [
      "guardado\n"
     ]
    }
   ],
   "source": [
    "senti_09.to_csv(\"label_09.csv\")\n",
    "print(\"guardado\")"
   ]
  },
  {
   "cell_type": "code",
   "execution_count": 56,
   "id": "a922baa7",
   "metadata": {},
   "outputs": [],
   "source": [
    "senti_10 = pd.read_csv('10_sent.csv')\n",
    "Sentiment = []\n",
    "positive_count_sad = 0\n",
    "negative_count_sad = 0\n",
    "\n",
    "for item in senti_08['Polarity']:\n",
    "    if item >= 0:\n",
    "        positive_count_sad +=1\n",
    "        Sentiment.append(\"Positivo\")\n",
    "    elif item < 0:\n",
    "        negative_count_sad +=1\n",
    "        Sentiment.append(\"Negativo\")\n",
    "        \n",
    "se = pd.Series(Sentiment)\n",
    "senti_10['Sentiment'] = se.values\n",
    "# Label encoding\n",
    "label_enc = LabelEncoder()\n",
    "senti_transformada = label_enc.fit_transform(senti_10['Sentiment'])\n",
    "senti_10['Encoding'] = senti_transformada\n"
   ]
  },
  {
   "cell_type": "code",
   "execution_count": 57,
   "id": "f1123422",
   "metadata": {},
   "outputs": [
    {
     "name": "stdout",
     "output_type": "stream",
     "text": [
      "guardado\n"
     ]
    }
   ],
   "source": [
    "senti_10.to_csv(\"label_10.csv\")\n",
    "print(\"guardado\")"
   ]
  },
  {
   "cell_type": "code",
   "execution_count": null,
   "id": "f7be66f5",
   "metadata": {},
   "outputs": [],
   "source": []
  },
  {
   "cell_type": "code",
   "execution_count": 58,
   "id": "3b0ba640",
   "metadata": {},
   "outputs": [],
   "source": [
    "senti_11 = pd.read_csv('11_sent.csv')\n",
    "Sentiment = []\n",
    "positive_count_sad = 0\n",
    "negative_count_sad = 0\n",
    "\n",
    "for item in senti_08['Polarity']:\n",
    "    if item >= 0:\n",
    "        positive_count_sad +=1\n",
    "        Sentiment.append(\"Positivo\")\n",
    "    elif item < 0:\n",
    "        negative_count_sad +=1\n",
    "        Sentiment.append(\"Negativo\")\n",
    "        \n",
    "se = pd.Series(Sentiment)\n",
    "senti_11['Sentiment'] = se.values\n",
    "# Label encoding\n",
    "label_enc = LabelEncoder()\n",
    "senti_transformada = label_enc.fit_transform(senti_11['Sentiment'])\n",
    "senti_11['Encoding'] = senti_transformada\n"
   ]
  },
  {
   "cell_type": "code",
   "execution_count": 59,
   "id": "991b6fbc",
   "metadata": {},
   "outputs": [
    {
     "name": "stdout",
     "output_type": "stream",
     "text": [
      "guardado\n"
     ]
    }
   ],
   "source": [
    "senti_11.to_csv(\"label_11.csv\")\n",
    "print(\"guardado\")"
   ]
  },
  {
   "cell_type": "code",
   "execution_count": 60,
   "id": "c2e58c86",
   "metadata": {},
   "outputs": [
    {
     "name": "stdout",
     "output_type": "stream",
     "text": [
      "guardado\n"
     ]
    }
   ],
   "source": [
    "senti_12 = pd.read_csv('12_sent.csv')\n",
    "Sentiment = []\n",
    "positive_count_sad = 0\n",
    "negative_count_sad = 0\n",
    "\n",
    "for item in senti_08['Polarity']:\n",
    "    if item >= 0:\n",
    "        positive_count_sad +=1\n",
    "        Sentiment.append(\"Positivo\")\n",
    "    elif item < 0:\n",
    "        negative_count_sad +=1\n",
    "        Sentiment.append(\"Negativo\")\n",
    "        \n",
    "se = pd.Series(Sentiment)\n",
    "senti_12['Sentiment'] = se.values\n",
    "# Label encoding\n",
    "label_enc = LabelEncoder()\n",
    "senti_transformada = label_enc.fit_transform(senti_12['Sentiment'])\n",
    "senti_12['Encoding'] = senti_transformada\n",
    "senti_12.to_csv(\"label_12.csv\")\n",
    "print(\"guardado\")"
   ]
  },
  {
   "cell_type": "code",
   "execution_count": null,
   "id": "93b9c4b6",
   "metadata": {},
   "outputs": [],
   "source": []
  },
  {
   "cell_type": "code",
   "execution_count": 61,
   "id": "55991817",
   "metadata": {},
   "outputs": [
    {
     "name": "stdout",
     "output_type": "stream",
     "text": [
      "guardado\n"
     ]
    }
   ],
   "source": [
    "senti_13 = pd.read_csv('13_sent.csv')\n",
    "Sentiment = []\n",
    "positive_count_sad = 0\n",
    "negative_count_sad = 0\n",
    "\n",
    "for item in senti_08['Polarity']:\n",
    "    if item >= 0:\n",
    "        positive_count_sad +=1\n",
    "        Sentiment.append(\"Positivo\")\n",
    "    elif item < 0:\n",
    "        negative_count_sad +=1\n",
    "        Sentiment.append(\"Negativo\")\n",
    "        \n",
    "se = pd.Series(Sentiment)\n",
    "senti_13['Sentiment'] = se.values\n",
    "# Label encoding\n",
    "label_enc = LabelEncoder()\n",
    "senti_transformada = label_enc.fit_transform(senti_13['Sentiment'])\n",
    "senti_13['Encoding'] = senti_transformada\n",
    "senti_13.to_csv(\"label_13.csv\")\n",
    "print(\"guardado\")"
   ]
  },
  {
   "cell_type": "code",
   "execution_count": null,
   "id": "e1e1ca27",
   "metadata": {},
   "outputs": [],
   "source": []
  },
  {
   "cell_type": "code",
   "execution_count": 62,
   "id": "18bb712a",
   "metadata": {},
   "outputs": [
    {
     "name": "stdout",
     "output_type": "stream",
     "text": [
      "guardado\n"
     ]
    }
   ],
   "source": [
    "senti_14 = pd.read_csv('14_sent.csv')\n",
    "Sentiment = []\n",
    "positive_count_sad = 0\n",
    "negative_count_sad = 0\n",
    "\n",
    "for item in senti_08['Polarity']:\n",
    "    if item >= 0:\n",
    "        positive_count_sad +=1\n",
    "        Sentiment.append(\"Positivo\")\n",
    "    elif item < 0:\n",
    "        negative_count_sad +=1\n",
    "        Sentiment.append(\"Negativo\")\n",
    "        \n",
    "se = pd.Series(Sentiment)\n",
    "senti_14['Sentiment'] = se.values\n",
    "# Label encoding\n",
    "label_enc = LabelEncoder()\n",
    "senti_transformada = label_enc.fit_transform(senti_14['Sentiment'])\n",
    "senti_14['Encoding'] = senti_transformada\n",
    "senti_14.to_csv(\"label_14.csv\")\n",
    "print(\"guardado\")"
   ]
  },
  {
   "cell_type": "code",
   "execution_count": null,
   "id": "5bff2965",
   "metadata": {},
   "outputs": [],
   "source": []
  },
  {
   "cell_type": "code",
   "execution_count": 63,
   "id": "c70f4610",
   "metadata": {},
   "outputs": [
    {
     "name": "stdout",
     "output_type": "stream",
     "text": [
      "guardado\n"
     ]
    }
   ],
   "source": [
    "senti_15 = pd.read_csv('15_sent.csv')\n",
    "Sentiment = []\n",
    "positive_count_sad = 0\n",
    "negative_count_sad = 0\n",
    "\n",
    "for item in senti_08['Polarity']:\n",
    "    if item >= 0:\n",
    "        positive_count_sad +=1\n",
    "        Sentiment.append(\"Positivo\")\n",
    "    elif item < 0:\n",
    "        negative_count_sad +=1\n",
    "        Sentiment.append(\"Negativo\")\n",
    "        \n",
    "se = pd.Series(Sentiment)\n",
    "senti_15['Sentiment'] = se.values\n",
    "# Label encoding\n",
    "label_enc = LabelEncoder()\n",
    "senti_transformada = label_enc.fit_transform(senti_15['Sentiment'])\n",
    "senti_15['Encoding'] = senti_transformada\n",
    "senti_15.to_csv(\"label_15.csv\")\n",
    "print(\"guardado\")"
   ]
  },
  {
   "cell_type": "code",
   "execution_count": null,
   "id": "ec6dbcb7",
   "metadata": {},
   "outputs": [],
   "source": []
  },
  {
   "cell_type": "code",
   "execution_count": 64,
   "id": "c03058c6",
   "metadata": {},
   "outputs": [
    {
     "name": "stdout",
     "output_type": "stream",
     "text": [
      "guardado\n"
     ]
    }
   ],
   "source": [
    "senti_16 = pd.read_csv('16_sent.csv')\n",
    "Sentiment = []\n",
    "positive_count_sad = 0\n",
    "negative_count_sad = 0\n",
    "\n",
    "for item in senti_08['Polarity']:\n",
    "    if item >= 0:\n",
    "        positive_count_sad +=1\n",
    "        Sentiment.append(\"Positivo\")\n",
    "    elif item < 0:\n",
    "        negative_count_sad +=1\n",
    "        Sentiment.append(\"Negativo\")\n",
    "        \n",
    "se = pd.Series(Sentiment)\n",
    "senti_16['Sentiment'] = se.values\n",
    "# Label encoding\n",
    "label_enc = LabelEncoder()\n",
    "senti_transformada = label_enc.fit_transform(senti_16['Sentiment'])\n",
    "senti_16['Encoding'] = senti_transformada\n",
    "senti_16.to_csv(\"label_16.csv\")\n",
    "print(\"guardado\")"
   ]
  },
  {
   "cell_type": "code",
   "execution_count": 65,
   "id": "a93c0b7a",
   "metadata": {},
   "outputs": [
    {
     "name": "stdout",
     "output_type": "stream",
     "text": [
      "guardado\n"
     ]
    }
   ],
   "source": [
    "senti_17 = pd.read_csv('17_sent.csv')\n",
    "Sentiment = []\n",
    "positive_count_sad = 0\n",
    "negative_count_sad = 0\n",
    "\n",
    "for item in senti_08['Polarity']:\n",
    "    if item >= 0:\n",
    "        positive_count_sad +=1\n",
    "        Sentiment.append(\"Positivo\")\n",
    "    elif item < 0:\n",
    "        negative_count_sad +=1\n",
    "        Sentiment.append(\"Negativo\")\n",
    "        \n",
    "se = pd.Series(Sentiment)\n",
    "senti_17['Sentiment'] = se.values\n",
    "# Label encoding\n",
    "label_enc = LabelEncoder()\n",
    "senti_transformada = label_enc.fit_transform(senti_17['Sentiment'])\n",
    "senti_17['Encoding'] = senti_transformada\n",
    "senti_17.to_csv(\"label_17.csv\")\n",
    "print(\"guardado\")"
   ]
  },
  {
   "cell_type": "code",
   "execution_count": 66,
   "id": "fc361f20",
   "metadata": {},
   "outputs": [
    {
     "name": "stdout",
     "output_type": "stream",
     "text": [
      "guardado\n"
     ]
    }
   ],
   "source": [
    "senti_18 = pd.read_csv('18_sent.csv')\n",
    "Sentiment = []\n",
    "positive_count_sad = 0\n",
    "negative_count_sad = 0\n",
    "\n",
    "for item in senti_08['Polarity']:\n",
    "    if item >= 0:\n",
    "        positive_count_sad +=1\n",
    "        Sentiment.append(\"Positivo\")\n",
    "    elif item < 0:\n",
    "        negative_count_sad +=1\n",
    "        Sentiment.append(\"Negativo\")\n",
    "        \n",
    "se = pd.Series(Sentiment)\n",
    "senti_18['Sentiment'] = se.values\n",
    "# Label encoding\n",
    "label_enc = LabelEncoder()\n",
    "senti_transformada = label_enc.fit_transform(senti_18['Sentiment'])\n",
    "senti_18['Encoding'] = senti_transformada\n",
    "senti_18.to_csv(\"label_18.csv\")\n",
    "print(\"guardado\")"
   ]
  },
  {
   "cell_type": "code",
   "execution_count": 67,
   "id": "ae6408f4",
   "metadata": {},
   "outputs": [
    {
     "name": "stdout",
     "output_type": "stream",
     "text": [
      "guardado\n"
     ]
    }
   ],
   "source": [
    "senti_19 = pd.read_csv('19_sent.csv')\n",
    "Sentiment = []\n",
    "positive_count_sad = 0\n",
    "negative_count_sad = 0\n",
    "\n",
    "for item in senti_08['Polarity']:\n",
    "    if item >= 0:\n",
    "        positive_count_sad +=1\n",
    "        Sentiment.append(\"Positivo\")\n",
    "    elif item < 0:\n",
    "        negative_count_sad +=1\n",
    "        Sentiment.append(\"Negativo\")\n",
    "        \n",
    "se = pd.Series(Sentiment)\n",
    "senti_19['Sentiment'] = se.values\n",
    "# Label encoding\n",
    "label_enc = LabelEncoder()\n",
    "senti_transformada = label_enc.fit_transform(senti_19['Sentiment'])\n",
    "senti_19['Encoding'] = senti_transformada\n",
    "senti_19.to_csv(\"label_19.csv\")\n",
    "print(\"guardado\")"
   ]
  },
  {
   "cell_type": "code",
   "execution_count": 68,
   "id": "b5810ccf",
   "metadata": {},
   "outputs": [
    {
     "name": "stdout",
     "output_type": "stream",
     "text": [
      "guardado\n"
     ]
    }
   ],
   "source": [
    "senti_20 = pd.read_csv('20_sent.csv')\n",
    "Sentiment = []\n",
    "positive_count_sad = 0\n",
    "negative_count_sad = 0\n",
    "\n",
    "for item in senti_08['Polarity']:\n",
    "    if item >= 0:\n",
    "        positive_count_sad +=1\n",
    "        Sentiment.append(\"Positivo\")\n",
    "    elif item < 0:\n",
    "        negative_count_sad +=1\n",
    "        Sentiment.append(\"Negativo\")\n",
    "        \n",
    "se = pd.Series(Sentiment)\n",
    "senti_20['Sentiment'] = se.values\n",
    "# Label encoding\n",
    "label_enc = LabelEncoder()\n",
    "senti_transformada = label_enc.fit_transform(senti_20['Sentiment'])\n",
    "senti_20['Encoding'] = senti_transformada\n",
    "senti_20.to_csv(\"label_20.csv\")\n",
    "print(\"guardado\")"
   ]
  },
  {
   "cell_type": "markdown",
   "id": "87665c26",
   "metadata": {},
   "source": [
    "### concateno"
   ]
  },
  {
   "cell_type": "code",
   "execution_count": 70,
   "id": "fe629597",
   "metadata": {},
   "outputs": [],
   "source": [
    "label_20 = pd.read_csv('label_20.csv')\n",
    "label_19 = pd.read_csv('label_19.csv')\n",
    "label_18 = pd.read_csv('label_18.csv')\n",
    "label_17 = pd.read_csv('label_17.csv')\n",
    "label_16 = pd.read_csv('label_16.csv')\n",
    "label_15 = pd.read_csv('label_15.csv')\n",
    "label_14 = pd.read_csv('label_14.csv')\n",
    "label_13 = pd.read_csv('label_13.csv')\n",
    "label_12 = pd.read_csv('label_12.csv')\n",
    "label_11 = pd.read_csv('label_11.csv')\n",
    "label_10 = pd.read_csv('label_10.csv')\n",
    "label_09 = pd.read_csv('label_09.csv')\n",
    "label_08 = pd.read_csv('label_08.csv')\n",
    "label_07 = pd.read_csv('label_07.csv')"
   ]
  },
  {
   "cell_type": "code",
   "execution_count": 71,
   "id": "89a1848f",
   "metadata": {},
   "outputs": [],
   "source": [
    "lista_label = (\n",
    "label_20,label_19,label_18,label_17,label_16,label_15,label_14,\n",
    "label_13,label_12,label_11,label_10,label_09,label_08,label_07\n",
    ")"
   ]
  },
  {
   "cell_type": "code",
   "execution_count": 72,
   "id": "8841d112",
   "metadata": {},
   "outputs": [
    {
     "data": {
      "text/html": [
       "<div>\n",
       "<style scoped>\n",
       "    .dataframe tbody tr th:only-of-type {\n",
       "        vertical-align: middle;\n",
       "    }\n",
       "\n",
       "    .dataframe tbody tr th {\n",
       "        vertical-align: top;\n",
       "    }\n",
       "\n",
       "    .dataframe thead th {\n",
       "        text-align: right;\n",
       "    }\n",
       "</style>\n",
       "<table border=\"1\" class=\"dataframe\">\n",
       "  <thead>\n",
       "    <tr style=\"text-align: right;\">\n",
       "      <th></th>\n",
       "      <th>Unnamed: 0.2</th>\n",
       "      <th>Unnamed: 0.1</th>\n",
       "      <th>Unnamed: 0</th>\n",
       "      <th>date</th>\n",
       "      <th>Text</th>\n",
       "      <th>id</th>\n",
       "      <th>user</th>\n",
       "      <th>Tweets</th>\n",
       "      <th>Polarity</th>\n",
       "      <th>Sentiment</th>\n",
       "      <th>Encoding</th>\n",
       "    </tr>\n",
       "  </thead>\n",
       "  <tbody>\n",
       "    <tr>\n",
       "      <th>0</th>\n",
       "      <td>0</td>\n",
       "      <td>0</td>\n",
       "      <td>0</td>\n",
       "      <td>2022-09-20 23:59:59+00:00</td>\n",
       "      <td>@RevistaSemana Vea que bueno, Rusia tiene muy ...</td>\n",
       "      <td>1572375049688039426</td>\n",
       "      <td>{'username': 'sacamargov', 'id': 2448738721, '...</td>\n",
       "      <td>vea que bueno, rusia tiene muy buena tecnologi...</td>\n",
       "      <td>-0.296</td>\n",
       "      <td>Negativo</td>\n",
       "      <td>0</td>\n",
       "    </tr>\n",
       "  </tbody>\n",
       "</table>\n",
       "</div>"
      ],
      "text/plain": [
       "   Unnamed: 0.2  Unnamed: 0.1  Unnamed: 0                       date  \\\n",
       "0             0             0           0  2022-09-20 23:59:59+00:00   \n",
       "\n",
       "                                                Text                   id  \\\n",
       "0  @RevistaSemana Vea que bueno, Rusia tiene muy ...  1572375049688039426   \n",
       "\n",
       "                                                user  \\\n",
       "0  {'username': 'sacamargov', 'id': 2448738721, '...   \n",
       "\n",
       "                                              Tweets  Polarity Sentiment  \\\n",
       "0  vea que bueno, rusia tiene muy buena tecnologi...    -0.296  Negativo   \n",
       "\n",
       "   Encoding  \n",
       "0         0  "
      ]
     },
     "execution_count": 72,
     "metadata": {},
     "output_type": "execute_result"
    }
   ],
   "source": [
    "df_label = pd.concat(lista_label)\n",
    "df_label.head(1)"
   ]
  },
  {
   "cell_type": "code",
   "execution_count": 74,
   "id": "4f080dc2",
   "metadata": {},
   "outputs": [
    {
     "data": {
      "text/html": [
       "<div>\n",
       "<style scoped>\n",
       "    .dataframe tbody tr th:only-of-type {\n",
       "        vertical-align: middle;\n",
       "    }\n",
       "\n",
       "    .dataframe tbody tr th {\n",
       "        vertical-align: top;\n",
       "    }\n",
       "\n",
       "    .dataframe thead th {\n",
       "        text-align: right;\n",
       "    }\n",
       "</style>\n",
       "<table border=\"1\" class=\"dataframe\">\n",
       "  <thead>\n",
       "    <tr style=\"text-align: right;\">\n",
       "      <th></th>\n",
       "      <th>date</th>\n",
       "      <th>Text</th>\n",
       "      <th>id</th>\n",
       "      <th>user</th>\n",
       "      <th>Tweets</th>\n",
       "      <th>Polarity</th>\n",
       "      <th>Sentiment</th>\n",
       "      <th>Encoding</th>\n",
       "    </tr>\n",
       "  </thead>\n",
       "  <tbody>\n",
       "    <tr>\n",
       "      <th>0</th>\n",
       "      <td>2022-09-20 23:59:59+00:00</td>\n",
       "      <td>@RevistaSemana Vea que bueno, Rusia tiene muy ...</td>\n",
       "      <td>1572375049688039426</td>\n",
       "      <td>{'username': 'sacamargov', 'id': 2448738721, '...</td>\n",
       "      <td>vea que bueno, rusia tiene muy buena tecnologi...</td>\n",
       "      <td>-0.296</td>\n",
       "      <td>Negativo</td>\n",
       "      <td>0</td>\n",
       "    </tr>\n",
       "  </tbody>\n",
       "</table>\n",
       "</div>"
      ],
      "text/plain": [
       "                        date  \\\n",
       "0  2022-09-20 23:59:59+00:00   \n",
       "\n",
       "                                                Text                   id  \\\n",
       "0  @RevistaSemana Vea que bueno, Rusia tiene muy ...  1572375049688039426   \n",
       "\n",
       "                                                user  \\\n",
       "0  {'username': 'sacamargov', 'id': 2448738721, '...   \n",
       "\n",
       "                                              Tweets  Polarity Sentiment  \\\n",
       "0  vea que bueno, rusia tiene muy buena tecnologi...    -0.296  Negativo   \n",
       "\n",
       "   Encoding  \n",
       "0         0  "
      ]
     },
     "execution_count": 74,
     "metadata": {},
     "output_type": "execute_result"
    }
   ],
   "source": [
    "df_label.drop(['Unnamed: 0.2',\n",
    "                  'Unnamed: 0.1',\n",
    "                  'Unnamed: 0',                 \n",
    "                 ],axis=1,inplace=True)\n",
    "df_label.head(1)"
   ]
  },
  {
   "cell_type": "code",
   "execution_count": 78,
   "id": "ee9f7984",
   "metadata": {},
   "outputs": [],
   "source": [
    "df_label.drop('Text', axis=1, inplace=True)"
   ]
  },
  {
   "cell_type": "code",
   "execution_count": 79,
   "id": "9bd9dad4",
   "metadata": {},
   "outputs": [
    {
     "name": "stdout",
     "output_type": "stream",
     "text": [
      "guardado\n"
     ]
    }
   ],
   "source": [
    "df_label.to_csv(\"df_label.csv\")\n",
    "print(\"guardado\")"
   ]
  },
  {
   "cell_type": "markdown",
   "id": "914e73b6",
   "metadata": {},
   "source": [
    "### balanceo de datos"
   ]
  },
  {
   "cell_type": "code",
   "execution_count": null,
   "id": "41875d4c",
   "metadata": {},
   "outputs": [],
   "source": [
    "# hasta aqui los datos estan ordenados por polaridad\n",
    "# hay que desordednarlos random con la funcion shuffle\n",
    "\n",
    "df_shuffle = sklearn.utils.shuffle(df_final)\n",
    "\n",
    "# Extracting the day from date\n",
    "df_shuffle['date'] = pd.to_datetime(df_shuffle['date'],format='%Y%m%d %H:%M:%S.%f')\n",
    "df_shuffle['Day'] = df_shuffle['date'].dt.date\n",
    "df_shuffle = df_shuffle.drop(\"date\",axis=1)\n",
    "cols = df_shuffle.columns.tolist()\n",
    "cols2 = ['Day','id','user','Tweets','Polarity','Sentiment','Encoding']\n",
    "df_shuffle = df_shuffle[cols2]\n",
    "\n",
    "# lo guardo como csv\n",
    "df_shuffle.to_csv(\"df_shuffle.csv\")\n",
    "print(\"guardado\")"
   ]
  },
  {
   "cell_type": "code",
   "execution_count": 85,
   "id": "c20a2e31",
   "metadata": {},
   "outputs": [
    {
     "data": {
      "text/plain": [
       "Positivo    86242\n",
       "Negativo    53758\n",
       "Name: Sentiment, dtype: int64"
      ]
     },
     "execution_count": 85,
     "metadata": {},
     "output_type": "execute_result"
    }
   ],
   "source": [
    "df_shuffle['Sentiment'].value_counts()"
   ]
  },
  {
   "cell_type": "code",
   "execution_count": 89,
   "id": "1e90a54b",
   "metadata": {},
   "outputs": [
    {
     "name": "stdout",
     "output_type": "stream",
     "text": [
      "Negativo    53758\n",
      "Name: Sentiment, dtype: int64\n"
     ]
    }
   ],
   "source": [
    "# cojo todos los negativos e igual numero de positivos\n",
    "negativos = df_shuffle.loc[df_shuffle['Sentiment']==\"Negativo\"]\n",
    "print(negativos['Sentiment'].value_counts())"
   ]
  },
  {
   "cell_type": "markdown",
   "id": "7e0d4feb",
   "metadata": {},
   "source": [
    "### shuffle"
   ]
  },
  {
   "cell_type": "code",
   "execution_count": 91,
   "id": "ccc27490",
   "metadata": {},
   "outputs": [
    {
     "name": "stdout",
     "output_type": "stream",
     "text": [
      "Positivo    86242\n",
      "Name: Sentiment, dtype: int64\n"
     ]
    }
   ],
   "source": [
    "positivos = df_shuffle.loc[df_shuffle['Sentiment']==\"Positivo\"]\n",
    "print(positivos['Sentiment'].value_counts())"
   ]
  },
  {
   "cell_type": "code",
   "execution_count": 92,
   "id": "6dce746f",
   "metadata": {},
   "outputs": [
    {
     "name": "stdout",
     "output_type": "stream",
     "text": [
      "Positivo    53758\n",
      "Name: Sentiment, dtype: int64\n"
     ]
    }
   ],
   "source": [
    "positivos = positivos.sort_values(by=\"Polarity\",ascending=False)\n",
    "positivos = positivos.iloc[:53758]\n",
    "print(positivos['Sentiment'].value_counts())"
   ]
  },
  {
   "cell_type": "code",
   "execution_count": 94,
   "id": "28e5588d",
   "metadata": {},
   "outputs": [
    {
     "name": "stdout",
     "output_type": "stream",
     "text": [
      "guardado\n"
     ]
    }
   ],
   "source": [
    "#concateno los dos dfs para tener uno solo de happy\n",
    "df_final_l = (positivos,negativos)\n",
    "df_final = pd.concat(df_final_l)\n",
    "\n",
    "#guardo csv\n",
    "df_final.to_csv(\"df_final.csv\")\n",
    "print(\"guardado\")"
   ]
  },
  {
   "cell_type": "code",
   "execution_count": 95,
   "id": "5869bd72",
   "metadata": {},
   "outputs": [
    {
     "name": "stdout",
     "output_type": "stream",
     "text": [
      "<class 'pandas.core.frame.DataFrame'>\n",
      "Int64Index: 107516 entries, 7333 to 9980\n",
      "Data columns (total 7 columns):\n",
      " #   Column     Non-Null Count   Dtype  \n",
      "---  ------     --------------   -----  \n",
      " 0   Day        107516 non-null  object \n",
      " 1   id         107516 non-null  int64  \n",
      " 2   user       107516 non-null  object \n",
      " 3   Tweets     107516 non-null  object \n",
      " 4   Polarity   107516 non-null  float64\n",
      " 5   Sentiment  107516 non-null  object \n",
      " 6   Encoding   107516 non-null  int64  \n",
      "dtypes: float64(1), int64(2), object(4)\n",
      "memory usage: 6.6+ MB\n"
     ]
    }
   ],
   "source": [
    "df_final.info()"
   ]
  },
  {
   "cell_type": "code",
   "execution_count": null,
   "id": "2d1dc0e0",
   "metadata": {},
   "outputs": [],
   "source": []
  },
  {
   "cell_type": "code",
   "execution_count": 98,
   "id": "817cee2f",
   "metadata": {},
   "outputs": [
    {
     "name": "stdout",
     "output_type": "stream",
     "text": [
      "guardado\n"
     ]
    }
   ],
   "source": [
    "# hasta aqui los datos estan ordenados por polaridad\n",
    "# hay que desordednarlos random con la funcion shuffle\n",
    "\n",
    "df = sklearn.utils.shuffle(df_final)\n",
    "\n",
    "# lo guardo como csv\n",
    "# es el df que usare en el modelo de machine learning\n",
    "df.to_csv(\"df.csv\")\n",
    "print(\"guardado\")"
   ]
  },
  {
   "cell_type": "code",
   "execution_count": null,
   "id": "9f2ae6c7",
   "metadata": {},
   "outputs": [],
   "source": []
  }
 ],
 "metadata": {
  "kernelspec": {
   "display_name": "Python 3 (ipykernel)",
   "language": "python",
   "name": "python3"
  },
  "language_info": {
   "codemirror_mode": {
    "name": "ipython",
    "version": 3
   },
   "file_extension": ".py",
   "mimetype": "text/x-python",
   "name": "python",
   "nbconvert_exporter": "python",
   "pygments_lexer": "ipython3",
   "version": "3.9.7"
  },
  "toc": {
   "base_numbering": 1,
   "nav_menu": {},
   "number_sections": true,
   "sideBar": true,
   "skip_h1_title": false,
   "title_cell": "Table of Contents",
   "title_sidebar": "Contents",
   "toc_cell": false,
   "toc_position": {},
   "toc_section_display": true,
   "toc_window_display": false
  }
 },
 "nbformat": 4,
 "nbformat_minor": 5
}

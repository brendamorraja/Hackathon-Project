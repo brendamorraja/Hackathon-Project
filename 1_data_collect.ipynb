{
  "cells": [
    {
      "cell_type": "code",
      "execution_count": null,
      "id": "dbacf1b2",
      "metadata": {
        "id": "dbacf1b2"
      },
      "outputs": [],
      "source": [
        "from scr import *\n",
        "pd.set_option('display.max_rows', None)"
      ]
    },
    {
      "cell_type": "markdown",
      "id": "5be307b2",
      "metadata": {
        "id": "5be307b2"
      },
      "source": [
        "### scraping twitter"
      ]
    },
    {
      "cell_type": "code",
      "execution_count": null,
      "id": "529a341d",
      "metadata": {
        "id": "529a341d"
      },
      "outputs": [],
      "source": [
        "# palabras clave\n",
        "\n",
        "triste = ('solo','pistola','muerto','muerte','ansioso','avergonzado','sin animo','llorar','depreciado','desesperado','desmotivado','deprimido','desolado','desesperado','devastado','decepcionado', \"desanimado\", \"dolor\",\"angustiado\", \"fatigado\", \"temeroso\", \"asustado\", \"frustrado\", \"sombrio\", \"afligido\", \"melancolico\", \"sin esperanza\", \"humillado\", \"ignorado\", \"intimidado\", \"insomnio\", \"aislado\", \"matar\",\"morir\", \"solitario\", \"salud mental\", \"maltratado\", \"triste\", \"nervioso\", \"ofendido\", \"oprimido\", \"abrumado\", \"panico\", \"castigado\", \"triste\", \"miedo\", 'tristeza','arrepentido','estresado','suicidio','suicidar','sufrimiento','lloro','aterrorizado','cansado','tragico','incomodo','infeliz','molesto','inutil','victima''vulnerable','debil','lloroso','preocupado')\n",
        "feliz = ('vivo','asombroso','impresionante','bendecido','dichoso','impresionado','animado','despreocupado','encantador','alegre', \"animado\", \"contento\", \"encantado\", \"euforico\", \"exultante\", \"fantastico\", \"fascinado\", \"halagado\", \"realizado\", \"alegre\", \"feliz\", \"increible\", \"amor\", \"afortunado\", \"maravilloso\", \"alegremente\", \"alucinado\", \"motivado\", \"desbordante\", \"exultante\", \"contento\", \"relajado\", \"aliviado\", \"satisfecho\", \"sensacional\", \"sonriente\", \"sorprendido\", \"entusiasmado\", \"triunfante\", \"confiado\", \"animado\", \"victorioso\", \"maravilloso\")"
      ]
    },
    {
      "cell_type": "code",
      "execution_count": null,
      "id": "66e46481",
      "metadata": {
        "id": "66e46481",
        "outputId": "ae6d9172-ca79-4537-9c31-928661c0eead"
      },
      "outputs": [
        {
          "name": "stdout",
          "output_type": "stream",
          "text": [
            "Duration: 0:06:42.370216\n"
          ]
        }
      ],
      "source": [
        "lista = triste\n",
        "max_tweets = 10000\n",
        "since = '2022-09-20'\n",
        "until = '2022-09-21'\n",
        "start_time = datetime.now()\n",
        "\n",
        "sept_20 = scraper(lista,max_tweets,since,until)\n",
        "end_time = datetime.now()\n",
        "print('Duration: {}'.format(end_time - start_time))\n",
        "\n",
        "sept_20.to_csv(\"sept_20.csv\")"
      ]
    },
    {
      "cell_type": "code",
      "execution_count": null,
      "id": "af80211e",
      "metadata": {
        "id": "af80211e"
      },
      "outputs": [],
      "source": [
        "lista_triste = (\n",
        "sept_07,sept_08,sept_09,sept_10,sept_11,sept_12,sept_13,sept_14,\n",
        "sept_15,sept_16,sept_17,sept_18,sept_19,sept_20\n",
        ")\n",
        "\n",
        "triste_sept = pd.concat(lista_triste)\n",
        "triste_sept.to_csv(\"triste_sept.csv\")"
      ]
    },
    {
      "cell_type": "markdown",
      "id": "ec7d889f",
      "metadata": {
        "id": "ec7d889f"
      },
      "source": [
        "### cleaning\n"
      ]
    },
    {
      "cell_type": "code",
      "execution_count": null,
      "id": "f833632e",
      "metadata": {
        "id": "f833632e"
      },
      "outputs": [],
      "source": [
        "triste_sept.drop(['url',\n",
        "                  'renderedContent',\n",
        "                  'replyCount',\n",
        "                  'retweetCount',\n",
        "                  'likeCount',\n",
        "                  'quoteCount',\n",
        "                  'conversationId',\n",
        "                  'lang',\n",
        "                  'source',\n",
        "                  'sourceUrl',\n",
        "                  'sourceLabel',\n",
        "                  'links',\n",
        "                  'media',\n",
        "                  'retweetedTweet',\n",
        "                  'quotedTweet',\n",
        "                  'inReplyToTweetId',\n",
        "                  'inReplyToUser',\n",
        "                  'mentionedUsers',\n",
        "                  'coordinates',\n",
        "                  'place',\n",
        "                  'hashtags',\n",
        "                  'cashtags',\n",
        "                  'card'\n",
        "                 ],axis=1,inplace=True)"
      ]
    },
    {
      "cell_type": "code",
      "execution_count": null,
      "id": "113deb14",
      "metadata": {
        "id": "113deb14"
      },
      "outputs": [],
      "source": [
        "triste_sept = triste_sept.rename({'rawContent':'Text'},axis=1)"
      ]
    },
    {
      "cell_type": "code",
      "execution_count": null,
      "id": "46a9d28c",
      "metadata": {
        "id": "46a9d28c",
        "outputId": "ff3a68d7-9a7c-4fac-88f7-10992ab46e32"
      },
      "outputs": [
        {
          "name": "stdout",
          "output_type": "stream",
          "text": [
            "<class 'pandas.core.frame.DataFrame'>\n",
            "Int64Index: 140000 entries, 0 to 9999\n",
            "Data columns (total 4 columns):\n",
            " #   Column  Non-Null Count   Dtype              \n",
            "---  ------  --------------   -----              \n",
            " 0   date    140000 non-null  datetime64[ns, UTC]\n",
            " 1   Text    140000 non-null  object             \n",
            " 2   id      140000 non-null  int64              \n",
            " 3   user    140000 non-null  object             \n",
            "dtypes: datetime64[ns, UTC](1), int64(1), object(2)\n",
            "memory usage: 5.3+ MB\n"
          ]
        }
      ],
      "source": [
        "triste_sept.info()"
      ]
    },
    {
      "cell_type": "code",
      "execution_count": null,
      "id": "d933062e",
      "metadata": {
        "id": "d933062e"
      },
      "outputs": [],
      "source": [
        "def clean_text(text):\n",
        "    text_cleaning_re = \"@\\S+|https?:\\S+|http?:\\S|[^A-Za-z0-9]+\"\n",
        "    text = re.sub(text_cleaning_re, ' ', str(text).lower()).strip()\n",
        "\n",
        "    tokens = text.split()\n",
        "    stop_words = set(stopwords.words('spanish'))\n",
        "    tokens = [w for w in tokens if w not in stop_words]\n",
        "    return \" \".join(tokens)"
      ]
    },
    {
      "cell_type": "code",
      "execution_count": null,
      "id": "7b221004",
      "metadata": {
        "id": "7b221004"
      },
      "outputs": [],
      "source": [
        "# paso la columna text a lista\n",
        "tweets_lista_s = triste_sept['Text'].tolist()\n",
        "# aplico la funcion remove_username_links\n",
        "removed_s = [remove_usernames_links(tweet) for tweet in tweets_lista_s]\n",
        "# aplico la funcion clean_tweet\n",
        "cleaned_s = [clean_tweet(tweet) for tweet in removed_s]\n",
        "# aplico la funcion no emoji\n",
        "emojis_s = [no_emoji(tweet) for tweet in cleaned_s]\n",
        "# pongo el contenido de la lista en una nueva columna\n",
        "triste_sept['Tweets'] = emojis_s"
      ]
    },
    {
      "cell_type": "markdown",
      "id": "9860a7ed",
      "metadata": {
        "id": "9860a7ed"
      },
      "source": [
        "### sentiment analysis"
      ]
    },
    {
      "cell_type": "code",
      "execution_count": null,
      "id": "df61c491",
      "metadata": {
        "id": "df61c491"
      },
      "outputs": [],
      "source": [
        "from sentiment_analysis_spanish import sentiment_analysis"
      ]
    },
    {
      "cell_type": "code",
      "execution_count": null,
      "id": "73952043",
      "metadata": {
        "id": "73952043"
      },
      "outputs": [],
      "source": [
        "def positive_negative(df):\n",
        "    for item in df:\n",
        "        if item >= 0:\n",
        "            Sentiment.append(\"Positive\")\n",
        "        elif item < 0:\n",
        "            Sentiment.append(\"Negative\")"
      ]
    },
    {
      "cell_type": "code",
      "execution_count": null,
      "id": "b6a7e860",
      "metadata": {
        "id": "b6a7e860"
      },
      "outputs": [],
      "source": [
        "def sentiment_scores(frase):\n",
        "    '''\n",
        "    Funcion que calcula el score de sentimiento\n",
        "    en español.\n",
        "    '''\n",
        "    sentiment = sentiment_analysis.SentimentAnalysisSpanish()\n",
        "    return sentiment.sentiment(frase)"
      ]
    },
    {
      "cell_type": "code",
      "execution_count": null,
      "id": "cdf43063",
      "metadata": {
        "id": "cdf43063"
      },
      "outputs": [],
      "source": [
        "triste_clean.drop(['Text'],axis=1,inplace=True)\n",
        "\n",
        "start_time = datetime.now()\n",
        "triste_clean['Polarity'] = [sentiment_scores(i) for i in triste_clean['Tweets']]\n",
        "end_time = datetime.now()\n",
        "print('Duration: {}'.format(end_time - start_time))"
      ]
    },
    {
      "cell_type": "code",
      "execution_count": null,
      "id": "83bb281f",
      "metadata": {
        "id": "83bb281f"
      },
      "outputs": [],
      "source": [
        "Sentiment = []\n",
        "positive_count_sad = 0\n",
        "negative_count_sad = 0\n",
        "\n",
        "for item in sad_posneg['Polarity']:\n",
        "    if item >= 0:\n",
        "        positive_count_sad +=1\n",
        "        Sentiment.append(\"Positivo\")\n",
        "    elif item < 0:\n",
        "        negative_count_sad +=1\n",
        "        Sentiment.append(\"Negativo\")\n",
        "\n",
        "se = pd.Series(Sentiment)\n",
        "triste_polarity['Sentiment'] = se.values"
      ]
    },
    {
      "cell_type": "code",
      "execution_count": null,
      "id": "2373f3ee",
      "metadata": {
        "id": "2373f3ee"
      },
      "outputs": [],
      "source": [
        "label_enc = LabelEncoder()\n",
        "senti_transformada = label_enc.fit_transform(triste_polarity['Sentiment'])\n",
        "triste_polarity['Encoding'] = senti_transformada"
      ]
    }
  ],
  "metadata": {
    "kernelspec": {
      "display_name": "Python 3 (ipykernel)",
      "language": "python",
      "name": "python3"
    },
    "language_info": {
      "codemirror_mode": {
        "name": "ipython",
        "version": 3
      },
      "file_extension": ".py",
      "mimetype": "text/x-python",
      "name": "python",
      "nbconvert_exporter": "python",
      "pygments_lexer": "ipython3",
      "version": "3.9.7"
    },
    "toc": {
      "base_numbering": 1,
      "nav_menu": {},
      "number_sections": true,
      "sideBar": true,
      "skip_h1_title": false,
      "title_cell": "Table of Contents",
      "title_sidebar": "Contents",
      "toc_cell": false,
      "toc_position": {},
      "toc_section_display": true,
      "toc_window_display": false
    },
    "colab": {
      "provenance": []
    }
  },
  "nbformat": 4,
  "nbformat_minor": 5
}
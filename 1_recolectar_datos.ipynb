{
 "cells": [
  {
   "cell_type": "markdown",
   "id": "91519e2b",
   "metadata": {},
   "source": [
    "### librerias"
   ]
  },
  {
   "cell_type": "code",
   "execution_count": 39,
   "id": "dbacf1b2",
   "metadata": {},
   "outputs": [],
   "source": [
    "from funciones_scrape import *\n",
    "pd.set_option('display.max_rows', None)"
   ]
  },
  {
   "cell_type": "markdown",
   "id": "5be307b2",
   "metadata": {},
   "source": [
    "### scraping twitter"
   ]
  },
  {
   "cell_type": "code",
   "execution_count": 40,
   "id": "1dbde1a9",
   "metadata": {},
   "outputs": [],
   "source": [
    "def scraper(lista_p,max_tweets,since,until):\n",
    "    '''\n",
    "    Funcion para obtener tweets.\n",
    "    '''\n",
    "    \n",
    "    for p in lista_p:\n",
    "        data = pd.DataFrame(itertools.islice(sntwitter.TwitterSearchScraper(\n",
    "    '{} since:{} until:{} lang:es'.format(p,since,until)).get_items(), max_tweets))\n",
    "        return data"
   ]
  },
  {
   "cell_type": "code",
   "execution_count": 41,
   "id": "529a341d",
   "metadata": {},
   "outputs": [],
   "source": [
    "# palabras clave\n",
    "\n",
    "triste = ('solo','pistola','muerto','muerte','ansioso','avergonzado','sin animo','llorar','depreciado','desesperado','desmotivado','deprimido','desolado','desesperado','devastado','decepcionado', \"desanimado\", \"dolor\",\"angustiado\", \"fatigado\", \"temeroso\", \"asustado\", \"frustrado\", \"sombrio\", \"afligido\", \"melancolico\", \"sin esperanza\", \"humillado\", \"ignorado\", \"intimidado\", \"insomnio\", \"aislado\", \"matar\",\"morir\", \"solitario\", \"salud mental\", \"maltratado\", \"triste\", \"nervioso\", \"ofendido\", \"oprimido\", \"abrumado\", \"panico\", \"castigado\", \"triste\", \"miedo\", 'tristeza','arrepentido','estresado','suicidio','suicidar','sufrimiento','lloro','aterrorizado','cansado','tragico','incomodo','infeliz','molesto','inutil','victima''vulnerable','debil','lloroso','preocupado')\n",
    "feliz = ('vivo','asombroso','impresionante','bendecido','dichoso','impresionado','animado','despreocupado','encantador','alegre', \"animado\", \"contento\", \"encantado\", \"euforico\", \"exultante\", \"fantastico\", \"fascinado\", \"halagado\", \"realizado\", \"alegre\", \"feliz\", \"increible\", \"amor\", \"afortunado\", \"maravilloso\", \"alegremente\", \"alucinado\", \"motivado\", \"desbordante\", \"exultante\", \"contento\", \"relajado\", \"aliviado\", \"satisfecho\", \"sensacional\", \"sonriente\", \"sorprendido\", \"entusiasmado\", \"triunfante\", \"confiado\", \"animado\", \"victorioso\", \"maravilloso\")"
   ]
  },
  {
   "cell_type": "code",
   "execution_count": 42,
   "id": "9b8bf476",
   "metadata": {},
   "outputs": [],
   "source": [
    "lista = triste\n",
    "max_tweets = 10000\n",
    "since = '2022-09-20'\n",
    "until = '2022-09-21'\n",
    "\n",
    "sept_20 = scraper(lista,max_tweets,since,until)"
   ]
  },
  {
   "cell_type": "code",
   "execution_count": 45,
   "id": "acb0c1d0",
   "metadata": {},
   "outputs": [
    {
     "data": {
      "text/html": [
       "<div>\n",
       "<style scoped>\n",
       "    .dataframe tbody tr th:only-of-type {\n",
       "        vertical-align: middle;\n",
       "    }\n",
       "\n",
       "    .dataframe tbody tr th {\n",
       "        vertical-align: top;\n",
       "    }\n",
       "\n",
       "    .dataframe thead th {\n",
       "        text-align: right;\n",
       "    }\n",
       "</style>\n",
       "<table border=\"1\" class=\"dataframe\">\n",
       "  <thead>\n",
       "    <tr style=\"text-align: right;\">\n",
       "      <th></th>\n",
       "      <th>url</th>\n",
       "      <th>date</th>\n",
       "      <th>rawContent</th>\n",
       "      <th>renderedContent</th>\n",
       "      <th>id</th>\n",
       "      <th>user</th>\n",
       "      <th>replyCount</th>\n",
       "      <th>retweetCount</th>\n",
       "      <th>likeCount</th>\n",
       "      <th>quoteCount</th>\n",
       "      <th>conversationId</th>\n",
       "      <th>lang</th>\n",
       "      <th>source</th>\n",
       "      <th>sourceUrl</th>\n",
       "      <th>sourceLabel</th>\n",
       "      <th>links</th>\n",
       "      <th>media</th>\n",
       "      <th>retweetedTweet</th>\n",
       "      <th>quotedTweet</th>\n",
       "      <th>inReplyToTweetId</th>\n",
       "      <th>inReplyToUser</th>\n",
       "      <th>mentionedUsers</th>\n",
       "      <th>coordinates</th>\n",
       "      <th>place</th>\n",
       "      <th>hashtags</th>\n",
       "      <th>cashtags</th>\n",
       "      <th>card</th>\n",
       "    </tr>\n",
       "  </thead>\n",
       "  <tbody>\n",
       "    <tr>\n",
       "      <th>0</th>\n",
       "      <td>https://twitter.com/sacamargov/status/15723750...</td>\n",
       "      <td>2022-09-20 23:59:59+00:00</td>\n",
       "      <td>@RevistaSemana Vea que bueno, Rusia tiene muy ...</td>\n",
       "      <td>@RevistaSemana Vea que bueno, Rusia tiene muy ...</td>\n",
       "      <td>1572375049688039426</td>\n",
       "      <td>{'username': 'sacamargov', 'id': 2448738721, '...</td>\n",
       "      <td>3</td>\n",
       "      <td>1</td>\n",
       "      <td>2</td>\n",
       "      <td>0</td>\n",
       "      <td>1572373476492681216</td>\n",
       "      <td>es</td>\n",
       "      <td>&lt;a href=\"http://twitter.com/download/android\" ...</td>\n",
       "      <td>http://twitter.com/download/android</td>\n",
       "      <td>Twitter for Android</td>\n",
       "      <td>None</td>\n",
       "      <td>None</td>\n",
       "      <td>None</td>\n",
       "      <td>None</td>\n",
       "      <td>1.572373e+18</td>\n",
       "      <td>{'username': 'RevistaSemana', 'id': 18079284, ...</td>\n",
       "      <td>[{'username': 'RevistaSemana', 'id': 18079284,...</td>\n",
       "      <td>None</td>\n",
       "      <td>None</td>\n",
       "      <td>None</td>\n",
       "      <td>None</td>\n",
       "      <td>None</td>\n",
       "    </tr>\n",
       "  </tbody>\n",
       "</table>\n",
       "</div>"
      ],
      "text/plain": [
       "                                                 url  \\\n",
       "0  https://twitter.com/sacamargov/status/15723750...   \n",
       "\n",
       "                       date  \\\n",
       "0 2022-09-20 23:59:59+00:00   \n",
       "\n",
       "                                          rawContent  \\\n",
       "0  @RevistaSemana Vea que bueno, Rusia tiene muy ...   \n",
       "\n",
       "                                     renderedContent                   id  \\\n",
       "0  @RevistaSemana Vea que bueno, Rusia tiene muy ...  1572375049688039426   \n",
       "\n",
       "                                                user  replyCount  \\\n",
       "0  {'username': 'sacamargov', 'id': 2448738721, '...           3   \n",
       "\n",
       "   retweetCount  likeCount  quoteCount       conversationId lang  \\\n",
       "0             1          2           0  1572373476492681216   es   \n",
       "\n",
       "                                              source  \\\n",
       "0  <a href=\"http://twitter.com/download/android\" ...   \n",
       "\n",
       "                             sourceUrl          sourceLabel links media  \\\n",
       "0  http://twitter.com/download/android  Twitter for Android  None  None   \n",
       "\n",
       "  retweetedTweet quotedTweet  inReplyToTweetId  \\\n",
       "0           None        None      1.572373e+18   \n",
       "\n",
       "                                       inReplyToUser  \\\n",
       "0  {'username': 'RevistaSemana', 'id': 18079284, ...   \n",
       "\n",
       "                                      mentionedUsers coordinates place  \\\n",
       "0  [{'username': 'RevistaSemana', 'id': 18079284,...        None  None   \n",
       "\n",
       "  hashtags cashtags  card  \n",
       "0     None     None  None  "
      ]
     },
     "execution_count": 45,
     "metadata": {},
     "output_type": "execute_result"
    }
   ],
   "source": [
    "sept_20.head(1)"
   ]
  },
  {
   "cell_type": "code",
   "execution_count": 46,
   "id": "0185164a",
   "metadata": {},
   "outputs": [],
   "source": [
    "# lo guardo en csv\n",
    "sept_20.to_csv(\"sept_20.csv\")"
   ]
  },
  {
   "cell_type": "code",
   "execution_count": 53,
   "id": "66e46481",
   "metadata": {},
   "outputs": [
    {
     "name": "stdout",
     "output_type": "stream",
     "text": [
      "Duration: 0:06:42.370216\n"
     ]
    }
   ],
   "source": [
    "since = '2022-09-19'\n",
    "until = '2022-09-20'\n",
    "start_time = datetime.now()\n",
    "\n",
    "sept_19 = scraper(lista,max_tweets,since,until)\n",
    "end_time = datetime.now()\n",
    "print('Duration: {}'.format(end_time - start_time))\n",
    "\n",
    "sept_19.to_csv(\"sept_19.csv\")"
   ]
  },
  {
   "cell_type": "code",
   "execution_count": 52,
   "id": "b2331c59",
   "metadata": {
    "collapsed": true
   },
   "outputs": [
    {
     "data": {
      "text/html": [
       "<div>\n",
       "<style scoped>\n",
       "    .dataframe tbody tr th:only-of-type {\n",
       "        vertical-align: middle;\n",
       "    }\n",
       "\n",
       "    .dataframe tbody tr th {\n",
       "        vertical-align: top;\n",
       "    }\n",
       "\n",
       "    .dataframe thead th {\n",
       "        text-align: right;\n",
       "    }\n",
       "</style>\n",
       "<table border=\"1\" class=\"dataframe\">\n",
       "  <thead>\n",
       "    <tr style=\"text-align: right;\">\n",
       "      <th></th>\n",
       "      <th>url</th>\n",
       "      <th>date</th>\n",
       "      <th>rawContent</th>\n",
       "      <th>renderedContent</th>\n",
       "      <th>id</th>\n",
       "      <th>user</th>\n",
       "      <th>replyCount</th>\n",
       "      <th>retweetCount</th>\n",
       "      <th>likeCount</th>\n",
       "      <th>quoteCount</th>\n",
       "      <th>conversationId</th>\n",
       "      <th>lang</th>\n",
       "      <th>source</th>\n",
       "      <th>sourceUrl</th>\n",
       "      <th>sourceLabel</th>\n",
       "      <th>links</th>\n",
       "      <th>media</th>\n",
       "      <th>retweetedTweet</th>\n",
       "      <th>quotedTweet</th>\n",
       "      <th>inReplyToTweetId</th>\n",
       "      <th>inReplyToUser</th>\n",
       "      <th>mentionedUsers</th>\n",
       "      <th>coordinates</th>\n",
       "      <th>place</th>\n",
       "      <th>hashtags</th>\n",
       "      <th>cashtags</th>\n",
       "      <th>card</th>\n",
       "    </tr>\n",
       "  </thead>\n",
       "  <tbody>\n",
       "    <tr>\n",
       "      <th>0</th>\n",
       "      <td>https://twitter.com/sacamargov/status/15723750...</td>\n",
       "      <td>2022-09-20 23:59:59+00:00</td>\n",
       "      <td>@RevistaSemana Vea que bueno, Rusia tiene muy ...</td>\n",
       "      <td>@RevistaSemana Vea que bueno, Rusia tiene muy ...</td>\n",
       "      <td>1572375049688039426</td>\n",
       "      <td>{'username': 'sacamargov', 'id': 2448738721, '...</td>\n",
       "      <td>3</td>\n",
       "      <td>1</td>\n",
       "      <td>2</td>\n",
       "      <td>0</td>\n",
       "      <td>1572373476492681216</td>\n",
       "      <td>es</td>\n",
       "      <td>&lt;a href=\"http://twitter.com/download/android\" ...</td>\n",
       "      <td>http://twitter.com/download/android</td>\n",
       "      <td>Twitter for Android</td>\n",
       "      <td>None</td>\n",
       "      <td>None</td>\n",
       "      <td>None</td>\n",
       "      <td>None</td>\n",
       "      <td>1.572373e+18</td>\n",
       "      <td>{'username': 'RevistaSemana', 'id': 18079284, ...</td>\n",
       "      <td>[{'username': 'RevistaSemana', 'id': 18079284,...</td>\n",
       "      <td>None</td>\n",
       "      <td>None</td>\n",
       "      <td>None</td>\n",
       "      <td>None</td>\n",
       "      <td>None</td>\n",
       "    </tr>\n",
       "    <tr>\n",
       "      <th>1</th>\n",
       "      <td>https://twitter.com/Myowncolordrop/status/1572...</td>\n",
       "      <td>2022-09-20 23:59:59+00:00</td>\n",
       "      <td>Hoy que me animé a salir sólo fue a lo menso p...</td>\n",
       "      <td>Hoy que me animé a salir sólo fue a lo menso p...</td>\n",
       "      <td>1572375048497033217</td>\n",
       "      <td>{'username': 'Myowncolordrop', 'id': 61102682,...</td>\n",
       "      <td>0</td>\n",
       "      <td>0</td>\n",
       "      <td>1</td>\n",
       "      <td>0</td>\n",
       "      <td>1572375048497033217</td>\n",
       "      <td>es</td>\n",
       "      <td>&lt;a href=\"http://twitter.com/download/android\" ...</td>\n",
       "      <td>http://twitter.com/download/android</td>\n",
       "      <td>Twitter for Android</td>\n",
       "      <td>None</td>\n",
       "      <td>None</td>\n",
       "      <td>None</td>\n",
       "      <td>None</td>\n",
       "      <td>NaN</td>\n",
       "      <td>None</td>\n",
       "      <td>None</td>\n",
       "      <td>None</td>\n",
       "      <td>None</td>\n",
       "      <td>None</td>\n",
       "      <td>None</td>\n",
       "      <td>None</td>\n",
       "    </tr>\n",
       "    <tr>\n",
       "      <th>2</th>\n",
       "      <td>https://twitter.com/octavio_pr/status/15723750...</td>\n",
       "      <td>2022-09-20 23:59:59+00:00</td>\n",
       "      <td>@daniel_durantes Pues no es mala idea. Expropi...</td>\n",
       "      <td>@daniel_durantes Pues no es mala idea. Expropi...</td>\n",
       "      <td>1572375048052408321</td>\n",
       "      <td>{'username': 'octavio_pr', 'id': 1959178262, '...</td>\n",
       "      <td>4</td>\n",
       "      <td>0</td>\n",
       "      <td>30</td>\n",
       "      <td>0</td>\n",
       "      <td>1572347873257455616</td>\n",
       "      <td>es</td>\n",
       "      <td>&lt;a href=\"https://mobile.twitter.com\" rel=\"nofo...</td>\n",
       "      <td>https://mobile.twitter.com</td>\n",
       "      <td>Twitter Web App</td>\n",
       "      <td>None</td>\n",
       "      <td>None</td>\n",
       "      <td>None</td>\n",
       "      <td>None</td>\n",
       "      <td>1.572348e+18</td>\n",
       "      <td>{'username': 'daniel_durantes', 'id': 42368923...</td>\n",
       "      <td>[{'username': 'daniel_durantes', 'id': 4236892...</td>\n",
       "      <td>None</td>\n",
       "      <td>None</td>\n",
       "      <td>None</td>\n",
       "      <td>None</td>\n",
       "      <td>None</td>\n",
       "    </tr>\n",
       "    <tr>\n",
       "      <th>3</th>\n",
       "      <td>https://twitter.com/Franzani2/status/157237504...</td>\n",
       "      <td>2022-09-20 23:59:59+00:00</td>\n",
       "      <td>@_rober_1 Amigo pero como te la vas a comer so...</td>\n",
       "      <td>@_rober_1 Amigo pero como te la vas a comer so...</td>\n",
       "      <td>1572375047418806274</td>\n",
       "      <td>{'username': 'Franzani2', 'id': 77701258618958...</td>\n",
       "      <td>1</td>\n",
       "      <td>0</td>\n",
       "      <td>1</td>\n",
       "      <td>0</td>\n",
       "      <td>1572353119467741185</td>\n",
       "      <td>es</td>\n",
       "      <td>&lt;a href=\"http://twitter.com/download/iphone\" r...</td>\n",
       "      <td>http://twitter.com/download/iphone</td>\n",
       "      <td>Twitter for iPhone</td>\n",
       "      <td>None</td>\n",
       "      <td>None</td>\n",
       "      <td>None</td>\n",
       "      <td>None</td>\n",
       "      <td>1.572353e+18</td>\n",
       "      <td>{'username': '_rober_1', 'id': 122843550731669...</td>\n",
       "      <td>[{'username': '_rober_1', 'id': 12284355073166...</td>\n",
       "      <td>None</td>\n",
       "      <td>None</td>\n",
       "      <td>None</td>\n",
       "      <td>None</td>\n",
       "      <td>None</td>\n",
       "    </tr>\n",
       "    <tr>\n",
       "      <th>4</th>\n",
       "      <td>https://twitter.com/ilycatwonie/status/1572375...</td>\n",
       "      <td>2022-09-20 23:59:59+00:00</td>\n",
       "      <td>si pero solo a veces, luego me da una flojera ...</td>\n",
       "      <td>si pero solo a veces, luego me da una flojera ...</td>\n",
       "      <td>1572375047137902593</td>\n",
       "      <td>{'username': 'ilycatwonie', 'id': 155950100784...</td>\n",
       "      <td>0</td>\n",
       "      <td>0</td>\n",
       "      <td>0</td>\n",
       "      <td>0</td>\n",
       "      <td>1572375047137902593</td>\n",
       "      <td>es</td>\n",
       "      <td>&lt;a href=\"http://twitter.com/download/iphone\" r...</td>\n",
       "      <td>http://twitter.com/download/iphone</td>\n",
       "      <td>Twitter for iPhone</td>\n",
       "      <td>None</td>\n",
       "      <td>None</td>\n",
       "      <td>None</td>\n",
       "      <td>{'url': 'https://twitter.com/ccranitasonce/sta...</td>\n",
       "      <td>NaN</td>\n",
       "      <td>None</td>\n",
       "      <td>None</td>\n",
       "      <td>None</td>\n",
       "      <td>None</td>\n",
       "      <td>None</td>\n",
       "      <td>None</td>\n",
       "      <td>None</td>\n",
       "    </tr>\n",
       "  </tbody>\n",
       "</table>\n",
       "</div>"
      ],
      "text/plain": [
       "                                                 url  \\\n",
       "0  https://twitter.com/sacamargov/status/15723750...   \n",
       "1  https://twitter.com/Myowncolordrop/status/1572...   \n",
       "2  https://twitter.com/octavio_pr/status/15723750...   \n",
       "3  https://twitter.com/Franzani2/status/157237504...   \n",
       "4  https://twitter.com/ilycatwonie/status/1572375...   \n",
       "\n",
       "                       date  \\\n",
       "0 2022-09-20 23:59:59+00:00   \n",
       "1 2022-09-20 23:59:59+00:00   \n",
       "2 2022-09-20 23:59:59+00:00   \n",
       "3 2022-09-20 23:59:59+00:00   \n",
       "4 2022-09-20 23:59:59+00:00   \n",
       "\n",
       "                                          rawContent  \\\n",
       "0  @RevistaSemana Vea que bueno, Rusia tiene muy ...   \n",
       "1  Hoy que me animé a salir sólo fue a lo menso p...   \n",
       "2  @daniel_durantes Pues no es mala idea. Expropi...   \n",
       "3  @_rober_1 Amigo pero como te la vas a comer so...   \n",
       "4  si pero solo a veces, luego me da una flojera ...   \n",
       "\n",
       "                                     renderedContent                   id  \\\n",
       "0  @RevistaSemana Vea que bueno, Rusia tiene muy ...  1572375049688039426   \n",
       "1  Hoy que me animé a salir sólo fue a lo menso p...  1572375048497033217   \n",
       "2  @daniel_durantes Pues no es mala idea. Expropi...  1572375048052408321   \n",
       "3  @_rober_1 Amigo pero como te la vas a comer so...  1572375047418806274   \n",
       "4  si pero solo a veces, luego me da una flojera ...  1572375047137902593   \n",
       "\n",
       "                                                user  replyCount  \\\n",
       "0  {'username': 'sacamargov', 'id': 2448738721, '...           3   \n",
       "1  {'username': 'Myowncolordrop', 'id': 61102682,...           0   \n",
       "2  {'username': 'octavio_pr', 'id': 1959178262, '...           4   \n",
       "3  {'username': 'Franzani2', 'id': 77701258618958...           1   \n",
       "4  {'username': 'ilycatwonie', 'id': 155950100784...           0   \n",
       "\n",
       "   retweetCount  likeCount  quoteCount       conversationId lang  \\\n",
       "0             1          2           0  1572373476492681216   es   \n",
       "1             0          1           0  1572375048497033217   es   \n",
       "2             0         30           0  1572347873257455616   es   \n",
       "3             0          1           0  1572353119467741185   es   \n",
       "4             0          0           0  1572375047137902593   es   \n",
       "\n",
       "                                              source  \\\n",
       "0  <a href=\"http://twitter.com/download/android\" ...   \n",
       "1  <a href=\"http://twitter.com/download/android\" ...   \n",
       "2  <a href=\"https://mobile.twitter.com\" rel=\"nofo...   \n",
       "3  <a href=\"http://twitter.com/download/iphone\" r...   \n",
       "4  <a href=\"http://twitter.com/download/iphone\" r...   \n",
       "\n",
       "                             sourceUrl          sourceLabel links media  \\\n",
       "0  http://twitter.com/download/android  Twitter for Android  None  None   \n",
       "1  http://twitter.com/download/android  Twitter for Android  None  None   \n",
       "2           https://mobile.twitter.com      Twitter Web App  None  None   \n",
       "3   http://twitter.com/download/iphone   Twitter for iPhone  None  None   \n",
       "4   http://twitter.com/download/iphone   Twitter for iPhone  None  None   \n",
       "\n",
       "  retweetedTweet                                        quotedTweet  \\\n",
       "0           None                                               None   \n",
       "1           None                                               None   \n",
       "2           None                                               None   \n",
       "3           None                                               None   \n",
       "4           None  {'url': 'https://twitter.com/ccranitasonce/sta...   \n",
       "\n",
       "   inReplyToTweetId                                      inReplyToUser  \\\n",
       "0      1.572373e+18  {'username': 'RevistaSemana', 'id': 18079284, ...   \n",
       "1               NaN                                               None   \n",
       "2      1.572348e+18  {'username': 'daniel_durantes', 'id': 42368923...   \n",
       "3      1.572353e+18  {'username': '_rober_1', 'id': 122843550731669...   \n",
       "4               NaN                                               None   \n",
       "\n",
       "                                      mentionedUsers coordinates place  \\\n",
       "0  [{'username': 'RevistaSemana', 'id': 18079284,...        None  None   \n",
       "1                                               None        None  None   \n",
       "2  [{'username': 'daniel_durantes', 'id': 4236892...        None  None   \n",
       "3  [{'username': '_rober_1', 'id': 12284355073166...        None  None   \n",
       "4                                               None        None  None   \n",
       "\n",
       "  hashtags cashtags  card  \n",
       "0     None     None  None  \n",
       "1     None     None  None  \n",
       "2     None     None  None  \n",
       "3     None     None  None  \n",
       "4     None     None  None  "
      ]
     },
     "execution_count": 52,
     "metadata": {},
     "output_type": "execute_result"
    }
   ],
   "source": [
    "sept_19.head(1)"
   ]
  },
  {
   "cell_type": "code",
   "execution_count": 54,
   "id": "01752e73",
   "metadata": {},
   "outputs": [
    {
     "name": "stdout",
     "output_type": "stream",
     "text": [
      "Duration: 0:06:44.272970\n"
     ]
    }
   ],
   "source": [
    "since = '2022-09-18'\n",
    "until = '2022-09-19'\n",
    "start_time = datetime.now()\n",
    "\n",
    "sept_18 = scraper(lista,max_tweets,since,until)\n",
    "end_time = datetime.now()\n",
    "print('Duration: {}'.format(end_time - start_time))\n",
    "\n",
    "sept_18.to_csv(\"sept_18.csv\")"
   ]
  },
  {
   "cell_type": "code",
   "execution_count": 66,
   "id": "5854483e",
   "metadata": {},
   "outputs": [
    {
     "name": "stdout",
     "output_type": "stream",
     "text": [
      "Duration: 0:06:39.208787\n"
     ]
    }
   ],
   "source": [
    "since = '2022-09-17'\n",
    "until = '2022-09-18'\n",
    "start_time = datetime.now()\n",
    "\n",
    "sept_17 = scraper(lista,max_tweets,since,until)\n",
    "end_time = datetime.now()\n",
    "print('Duration: {}'.format(end_time - start_time))\n",
    "\n",
    "sept_17.to_csv(\"sept_17.csv\")"
   ]
  },
  {
   "cell_type": "code",
   "execution_count": 55,
   "id": "1da72a7e",
   "metadata": {},
   "outputs": [
    {
     "name": "stdout",
     "output_type": "stream",
     "text": [
      "Duration: 0:06:50.139073\n"
     ]
    }
   ],
   "source": [
    "since = '2022-09-16'\n",
    "until = '2022-09-17'\n",
    "start_time = datetime.now()\n",
    "\n",
    "sept_16 = scraper(lista,max_tweets,since,until)\n",
    "end_time = datetime.now()\n",
    "print('Duration: {}'.format(end_time - start_time))\n",
    "\n",
    "sept_16.to_csv(\"sept_16.csv\")"
   ]
  },
  {
   "cell_type": "code",
   "execution_count": 56,
   "id": "160e385d",
   "metadata": {},
   "outputs": [
    {
     "name": "stdout",
     "output_type": "stream",
     "text": [
      "Duration: 0:06:51.126534\n"
     ]
    }
   ],
   "source": [
    "since = '2022-09-15'\n",
    "until = '2022-09-16'\n",
    "start_time = datetime.now()\n",
    "\n",
    "sept_15 = scraper(lista,max_tweets,since,until)\n",
    "end_time = datetime.now()\n",
    "print('Duration: {}'.format(end_time - start_time))\n",
    "\n",
    "sept_15.to_csv(\"sept_15.csv\")"
   ]
  },
  {
   "cell_type": "code",
   "execution_count": 57,
   "id": "d2bf3986",
   "metadata": {},
   "outputs": [
    {
     "name": "stdout",
     "output_type": "stream",
     "text": [
      "Duration: 0:06:53.363844\n"
     ]
    }
   ],
   "source": [
    "since = '2022-09-14'\n",
    "until = '2022-09-15'\n",
    "start_time = datetime.now()\n",
    "\n",
    "sept_14 = scraper(lista,max_tweets,since,until)\n",
    "end_time = datetime.now()\n",
    "print('Duration: {}'.format(end_time - start_time))\n",
    "\n",
    "sept_14.to_csv(\"sept_14.csv\")"
   ]
  },
  {
   "cell_type": "code",
   "execution_count": 58,
   "id": "8923017c",
   "metadata": {},
   "outputs": [
    {
     "name": "stderr",
     "output_type": "stream",
     "text": [
      "Tweet 1568951137541275648 contains an app icon medium key '4_1583654278782406657' on app 'iphone_app'/'950876153', but the corresponding medium is missing; dropping\n",
      "Tweet 1568951137541275648 contains an app icon medium key '4_1583654278782406657' on app 'ipad_app'/'950876153', but the corresponding medium is missing; dropping\n"
     ]
    },
    {
     "name": "stdout",
     "output_type": "stream",
     "text": [
      "Duration: 0:06:48.084653\n"
     ]
    }
   ],
   "source": [
    "since = '2022-09-13'\n",
    "until = '2022-09-14'\n",
    "start_time = datetime.now()\n",
    "\n",
    "sept_13 = scraper(lista,max_tweets,since,until)\n",
    "end_time = datetime.now()\n",
    "print('Duration: {}'.format(end_time - start_time))\n",
    "\n",
    "sept_13.to_csv(\"sept_13.csv\")"
   ]
  },
  {
   "cell_type": "code",
   "execution_count": 59,
   "id": "dc5ef7f5",
   "metadata": {},
   "outputs": [
    {
     "name": "stdout",
     "output_type": "stream",
     "text": [
      "Duration: 0:06:46.417656\n"
     ]
    }
   ],
   "source": [
    "since = '2022-09-12'\n",
    "until = '2022-09-13'\n",
    "start_time = datetime.now()\n",
    "\n",
    "sept_12 = scraper(lista,max_tweets,since,until)\n",
    "end_time = datetime.now()\n",
    "print('Duration: {}'.format(end_time - start_time))\n",
    "\n",
    "sept_12.to_csv(\"sept_12.csv\")"
   ]
  },
  {
   "cell_type": "code",
   "execution_count": 61,
   "id": "88164525",
   "metadata": {},
   "outputs": [
    {
     "name": "stdout",
     "output_type": "stream",
     "text": [
      "Duration: 0:06:32.588445\n"
     ]
    }
   ],
   "source": [
    "since = '2022-09-11'\n",
    "until = '2022-09-12'\n",
    "start_time = datetime.now()\n",
    "\n",
    "sept_11 = scraper(lista,max_tweets,since,until)\n",
    "end_time = datetime.now()\n",
    "print('Duration: {}'.format(end_time - start_time))\n",
    "\n",
    "sept_11.to_csv(\"sept_11.csv\")"
   ]
  },
  {
   "cell_type": "code",
   "execution_count": 60,
   "id": "e383588e",
   "metadata": {},
   "outputs": [
    {
     "name": "stdout",
     "output_type": "stream",
     "text": [
      "Duration: 0:06:46.707044\n"
     ]
    }
   ],
   "source": [
    "since = '2022-09-10'\n",
    "until = '2022-09-11'\n",
    "start_time = datetime.now()\n",
    "\n",
    "sept_10 = scraper(lista,max_tweets,since,until)\n",
    "end_time = datetime.now()\n",
    "print('Duration: {}'.format(end_time - start_time))\n",
    "\n",
    "sept_10.to_csv(\"sept_10.csv\")"
   ]
  },
  {
   "cell_type": "code",
   "execution_count": 62,
   "id": "a9ba7ec6",
   "metadata": {},
   "outputs": [
    {
     "name": "stdout",
     "output_type": "stream",
     "text": [
      "Duration: 0:06:39.373876\n"
     ]
    }
   ],
   "source": [
    "since = '2022-09-09'\n",
    "until = '2022-09-10'\n",
    "start_time = datetime.now()\n",
    "\n",
    "sept_09 = scraper(lista,max_tweets,since,until)\n",
    "end_time = datetime.now()\n",
    "print('Duration: {}'.format(end_time - start_time))\n",
    "\n",
    "sept_09.to_csv(\"sept_09.csv\")"
   ]
  },
  {
   "cell_type": "code",
   "execution_count": 63,
   "id": "f9ad3d58",
   "metadata": {},
   "outputs": [
    {
     "name": "stdout",
     "output_type": "stream",
     "text": [
      "Duration: 0:06:35.485019\n"
     ]
    }
   ],
   "source": [
    "since = '2022-09-08'\n",
    "until = '2022-09-09'\n",
    "start_time = datetime.now()\n",
    "\n",
    "sept_08 = scraper(lista,max_tweets,since,until)\n",
    "end_time = datetime.now()\n",
    "print('Duration: {}'.format(end_time - start_time))\n",
    "\n",
    "sept_08.to_csv(\"sept_08.csv\")"
   ]
  },
  {
   "cell_type": "code",
   "execution_count": 65,
   "id": "29dc38f0",
   "metadata": {},
   "outputs": [
    {
     "name": "stdout",
     "output_type": "stream",
     "text": [
      "Duration: 0:06:20.413046\n"
     ]
    }
   ],
   "source": [
    "since = '2022-09-07'\n",
    "until = '2022-09-08'\n",
    "start_time = datetime.now()\n",
    "\n",
    "sept_07 = scraper(lista,max_tweets,since,until)\n",
    "end_time = datetime.now()\n",
    "print('Duration: {}'.format(end_time - start_time))\n",
    "\n",
    "sept_07.to_csv(\"sept_07.csv\")"
   ]
  },
  {
   "cell_type": "code",
   "execution_count": null,
   "id": "2bf7cc6e",
   "metadata": {},
   "outputs": [],
   "source": [
    "# Hasta aquí tengo 140000 tweets en total\n",
    "# Voy a probar si funciona lo demás sólo con estos tweets"
   ]
  },
  {
   "cell_type": "code",
   "execution_count": null,
   "id": "097dd75d",
   "metadata": {},
   "outputs": [],
   "source": []
  },
  {
   "cell_type": "code",
   "execution_count": null,
   "id": "6bb77699",
   "metadata": {},
   "outputs": [],
   "source": [
    "since = '2022-09-06'\n",
    "until = '2022-09-07'\n",
    "start_time = datetime.now()\n",
    "\n",
    "sept_06 = scraper(lista,max_tweets,since,until)\n",
    "end_time = datetime.now()\n",
    "print('Duration: {}'.format(end_time - start_time))\n",
    "\n",
    "sept_06.to_csv(\"sept_06.csv\")"
   ]
  },
  {
   "cell_type": "code",
   "execution_count": null,
   "id": "18b7004c",
   "metadata": {},
   "outputs": [],
   "source": [
    "since = '2022-09-05'\n",
    "until = '2022-09-06'\n",
    "start_time = datetime.now()\n",
    "\n",
    "sept_05 = scraper(lista,max_tweets,since,until)\n",
    "end_time = datetime.now()\n",
    "print('Duration: {}'.format(end_time - start_time))\n",
    "\n",
    "sept_05.to_csv(\"sept_05.csv\")"
   ]
  },
  {
   "cell_type": "code",
   "execution_count": null,
   "id": "107b5a21",
   "metadata": {},
   "outputs": [],
   "source": [
    "since = '2022-09-04'\n",
    "until = '2022-09-05'\n",
    "start_time = datetime.now()\n",
    "\n",
    "sept_04 = scraper(lista,max_tweets,since,until)\n",
    "end_time = datetime.now()\n",
    "print('Duration: {}'.format(end_time - start_time))\n",
    "\n",
    "sept_04.to_csv(\"sept_04.csv\")"
   ]
  },
  {
   "cell_type": "code",
   "execution_count": null,
   "id": "7f80de3c",
   "metadata": {},
   "outputs": [],
   "source": [
    "since = '2022-09-03'\n",
    "until = '2022-09-04'\n",
    "start_time = datetime.now()\n",
    "\n",
    "sept_03 = scraper(lista,max_tweets,since,until)\n",
    "end_time = datetime.now()\n",
    "print('Duration: {}'.format(end_time - start_time))\n",
    "\n",
    "sept_03.to_csv(\"sept_03.csv\")"
   ]
  },
  {
   "cell_type": "code",
   "execution_count": null,
   "id": "d32718d9",
   "metadata": {},
   "outputs": [],
   "source": [
    "since = '2022-09-02'\n",
    "until = '2022-09-03'\n",
    "start_time = datetime.now()\n",
    "\n",
    "sept_02 = scraper(lista,max_tweets,since,until)\n",
    "end_time = datetime.now()\n",
    "print('Duration: {}'.format(end_time - start_time))\n",
    "\n",
    "sept_02.to_csv(\"sept_02.csv\")"
   ]
  },
  {
   "cell_type": "code",
   "execution_count": null,
   "id": "4839595f",
   "metadata": {},
   "outputs": [],
   "source": [
    "since = '2022-09-01'\n",
    "until = '2022-09-02'\n",
    "start_time = datetime.now()\n",
    "\n",
    "sept_01 = scraper(lista,max_tweets,since,until)\n",
    "end_time = datetime.now()\n",
    "print('Duration: {}'.format(end_time - start_time))\n",
    "\n",
    "sept_01.to_csv(\"sept_01.csv\")"
   ]
  },
  {
   "cell_type": "code",
   "execution_count": 67,
   "id": "af80211e",
   "metadata": {},
   "outputs": [],
   "source": [
    "# concateno los csv\n",
    "\n",
    "lista_triste = (\n",
    "sept_07,sept_08,sept_09,sept_10,sept_11,sept_12,sept_13,sept_14,\n",
    "sept_15,sept_16,sept_17,sept_18,sept_19,sept_20\n",
    ")\n",
    "\n",
    "triste_sept = pd.concat(lista_triste)\n",
    "triste_sept.to_csv(\"triste_sept.csv\")"
   ]
  },
  {
   "cell_type": "markdown",
   "id": "ec7d889f",
   "metadata": {},
   "source": [
    "### limpiar los tweets\n"
   ]
  },
  {
   "cell_type": "code",
   "execution_count": 72,
   "id": "f8aa6a45",
   "metadata": {},
   "outputs": [
    {
     "data": {
      "text/html": [
       "<div>\n",
       "<style scoped>\n",
       "    .dataframe tbody tr th:only-of-type {\n",
       "        vertical-align: middle;\n",
       "    }\n",
       "\n",
       "    .dataframe tbody tr th {\n",
       "        vertical-align: top;\n",
       "    }\n",
       "\n",
       "    .dataframe thead th {\n",
       "        text-align: right;\n",
       "    }\n",
       "</style>\n",
       "<table border=\"1\" class=\"dataframe\">\n",
       "  <thead>\n",
       "    <tr style=\"text-align: right;\">\n",
       "      <th></th>\n",
       "      <th>url</th>\n",
       "      <th>date</th>\n",
       "      <th>rawContent</th>\n",
       "      <th>renderedContent</th>\n",
       "      <th>id</th>\n",
       "      <th>user</th>\n",
       "      <th>replyCount</th>\n",
       "      <th>retweetCount</th>\n",
       "      <th>likeCount</th>\n",
       "      <th>quoteCount</th>\n",
       "      <th>conversationId</th>\n",
       "      <th>lang</th>\n",
       "      <th>source</th>\n",
       "      <th>sourceUrl</th>\n",
       "      <th>sourceLabel</th>\n",
       "      <th>links</th>\n",
       "      <th>media</th>\n",
       "      <th>retweetedTweet</th>\n",
       "      <th>quotedTweet</th>\n",
       "      <th>inReplyToTweetId</th>\n",
       "      <th>inReplyToUser</th>\n",
       "      <th>mentionedUsers</th>\n",
       "      <th>coordinates</th>\n",
       "      <th>place</th>\n",
       "      <th>hashtags</th>\n",
       "      <th>cashtags</th>\n",
       "      <th>card</th>\n",
       "    </tr>\n",
       "  </thead>\n",
       "  <tbody>\n",
       "    <tr>\n",
       "      <th>0</th>\n",
       "      <td>https://twitter.com/Izquierdarevolu/status/156...</td>\n",
       "      <td>2022-09-07 23:59:59+00:00</td>\n",
       "      <td>Que quede claro, más que Morenista soy Lopezob...</td>\n",
       "      <td>Que quede claro, más que Morenista soy Lopezob...</td>\n",
       "      <td>1567664007963676674</td>\n",
       "      <td>{'username': 'Izquierdarevolu', 'id': 15232047...</td>\n",
       "      <td>0</td>\n",
       "      <td>0</td>\n",
       "      <td>1</td>\n",
       "      <td>0</td>\n",
       "      <td>1567664007963676674</td>\n",
       "      <td>es</td>\n",
       "      <td>&lt;a href=\"http://twitter.com/download/android\" ...</td>\n",
       "      <td>http://twitter.com/download/android</td>\n",
       "      <td>Twitter for Android</td>\n",
       "      <td>None</td>\n",
       "      <td>None</td>\n",
       "      <td>None</td>\n",
       "      <td>None</td>\n",
       "      <td>NaN</td>\n",
       "      <td>None</td>\n",
       "      <td>None</td>\n",
       "      <td>None</td>\n",
       "      <td>None</td>\n",
       "      <td>None</td>\n",
       "      <td>None</td>\n",
       "      <td>None</td>\n",
       "    </tr>\n",
       "  </tbody>\n",
       "</table>\n",
       "</div>"
      ],
      "text/plain": [
       "                                                 url  \\\n",
       "0  https://twitter.com/Izquierdarevolu/status/156...   \n",
       "\n",
       "                       date  \\\n",
       "0 2022-09-07 23:59:59+00:00   \n",
       "\n",
       "                                          rawContent  \\\n",
       "0  Que quede claro, más que Morenista soy Lopezob...   \n",
       "\n",
       "                                     renderedContent                   id  \\\n",
       "0  Que quede claro, más que Morenista soy Lopezob...  1567664007963676674   \n",
       "\n",
       "                                                user  replyCount  \\\n",
       "0  {'username': 'Izquierdarevolu', 'id': 15232047...           0   \n",
       "\n",
       "   retweetCount  likeCount  quoteCount       conversationId lang  \\\n",
       "0             0          1           0  1567664007963676674   es   \n",
       "\n",
       "                                              source  \\\n",
       "0  <a href=\"http://twitter.com/download/android\" ...   \n",
       "\n",
       "                             sourceUrl          sourceLabel links media  \\\n",
       "0  http://twitter.com/download/android  Twitter for Android  None  None   \n",
       "\n",
       "  retweetedTweet quotedTweet  inReplyToTweetId inReplyToUser mentionedUsers  \\\n",
       "0           None        None               NaN          None           None   \n",
       "\n",
       "  coordinates place hashtags cashtags  card  \n",
       "0        None  None     None     None  None  "
      ]
     },
     "execution_count": 72,
     "metadata": {},
     "output_type": "execute_result"
    }
   ],
   "source": [
    "triste_sept.head(1)"
   ]
  },
  {
   "cell_type": "code",
   "execution_count": 73,
   "id": "f833632e",
   "metadata": {},
   "outputs": [],
   "source": [
    "triste_sept.drop(['url',\n",
    "                  'renderedContent',\n",
    "                  'replyCount',\n",
    "                  'retweetCount',\n",
    "                  'likeCount',\n",
    "                  'quoteCount',\n",
    "                  'conversationId',\n",
    "                  'lang',\n",
    "                  'source',\n",
    "                  'sourceUrl',\n",
    "                  'sourceLabel',\n",
    "                  'links',\n",
    "                  'media',\n",
    "                  'retweetedTweet',\n",
    "                  'quotedTweet',\n",
    "                  'inReplyToTweetId',\n",
    "                  'inReplyToUser',\n",
    "                  'mentionedUsers',\n",
    "                  'coordinates',\n",
    "                  'place',\n",
    "                  'hashtags',\n",
    "                  'cashtags',\n",
    "                  'card'                 \n",
    "                 ],axis=1,inplace=True)"
   ]
  },
  {
   "cell_type": "code",
   "execution_count": 77,
   "id": "113deb14",
   "metadata": {},
   "outputs": [],
   "source": [
    "triste_sept = triste_sept.rename({'rawContent':'Text'},axis=1)"
   ]
  },
  {
   "cell_type": "code",
   "execution_count": 78,
   "id": "46a9d28c",
   "metadata": {},
   "outputs": [
    {
     "name": "stdout",
     "output_type": "stream",
     "text": [
      "<class 'pandas.core.frame.DataFrame'>\n",
      "Int64Index: 140000 entries, 0 to 9999\n",
      "Data columns (total 4 columns):\n",
      " #   Column  Non-Null Count   Dtype              \n",
      "---  ------  --------------   -----              \n",
      " 0   date    140000 non-null  datetime64[ns, UTC]\n",
      " 1   Text    140000 non-null  object             \n",
      " 2   id      140000 non-null  int64              \n",
      " 3   user    140000 non-null  object             \n",
      "dtypes: datetime64[ns, UTC](1), int64(1), object(2)\n",
      "memory usage: 5.3+ MB\n"
     ]
    }
   ],
   "source": [
    "triste_sept.info()"
   ]
  },
  {
   "cell_type": "code",
   "execution_count": 79,
   "id": "d933062e",
   "metadata": {},
   "outputs": [],
   "source": [
    "def clean_text(text):\n",
    "    text_cleaning_re = \"@\\S+|https?:\\S+|http?:\\S|[^A-Za-z0-9]+\"\n",
    "    text = re.sub(text_cleaning_re, ' ', str(text).lower()).strip()\n",
    "    \n",
    "    tokens = text.split()\n",
    "    stop_words = set(stopwords.words('spanish'))\n",
    "    tokens = [w for w in tokens if w not in stop_words]\n",
    "    return \" \".join(tokens)"
   ]
  },
  {
   "cell_type": "code",
   "execution_count": 81,
   "id": "7b221004",
   "metadata": {},
   "outputs": [],
   "source": [
    "# paso la columna text a lista\n",
    "tweets_lista_s = triste_sept['Text'].tolist()\n",
    "# aplico la funcion remove_username_links\n",
    "removed_s = [remove_usernames_links(tweet) for tweet in tweets_lista_s]\n",
    "# aplico la funcion clean_tweet\n",
    "cleaned_s = [clean_tweet(tweet) for tweet in removed_s]\n",
    "# aplico la funcion no emoji\n",
    "emojis_s = [no_emoji(tweet) for tweet in cleaned_s]\n",
    "# pongo el contenido de la lista en una nueva columna\n",
    "triste_sept['Tweets'] = emojis_s"
   ]
  },
  {
   "cell_type": "markdown",
   "id": "9860a7ed",
   "metadata": {},
   "source": [
    "### analisis de sentimiento"
   ]
  },
  {
   "cell_type": "code",
   "execution_count": 105,
   "id": "df61c491",
   "metadata": {},
   "outputs": [],
   "source": [
    "from sentiment_analysis_spanish import sentiment_analysis"
   ]
  },
  {
   "cell_type": "code",
   "execution_count": 106,
   "id": "73952043",
   "metadata": {},
   "outputs": [],
   "source": [
    "def positive_negative(df):\n",
    "    for item in df:\n",
    "        if item >= 0:\n",
    "            Sentiment.append(\"Positive\")\n",
    "        elif item < 0:\n",
    "            Sentiment.append(\"Negative\")"
   ]
  },
  {
   "cell_type": "code",
   "execution_count": 107,
   "id": "b6a7e860",
   "metadata": {},
   "outputs": [],
   "source": [
    "def sentiment_scores(frase):\n",
    "    '''\n",
    "    Funcion que calcula el score de sentimiento\n",
    "    en español.\n",
    "    '''\n",
    "    sentiment = sentiment_analysis.SentimentAnalysisSpanish()\n",
    "    return sentiment.sentiment(frase)"
   ]
  },
  {
   "cell_type": "code",
   "execution_count": 101,
   "id": "45bea6fe",
   "metadata": {},
   "outputs": [],
   "source": [
    "triste_clean = triste_sept.copy()"
   ]
  },
  {
   "cell_type": "code",
   "execution_count": 103,
   "id": "cdf43063",
   "metadata": {},
   "outputs": [],
   "source": [
    "triste_clean.drop(['Text'],axis=1,inplace=True)"
   ]
  },
  {
   "cell_type": "code",
   "execution_count": 108,
   "id": "7e7c49bd",
   "metadata": {},
   "outputs": [
    {
     "data": {
      "text/html": [
       "<div>\n",
       "<style scoped>\n",
       "    .dataframe tbody tr th:only-of-type {\n",
       "        vertical-align: middle;\n",
       "    }\n",
       "\n",
       "    .dataframe tbody tr th {\n",
       "        vertical-align: top;\n",
       "    }\n",
       "\n",
       "    .dataframe thead th {\n",
       "        text-align: right;\n",
       "    }\n",
       "</style>\n",
       "<table border=\"1\" class=\"dataframe\">\n",
       "  <thead>\n",
       "    <tr style=\"text-align: right;\">\n",
       "      <th></th>\n",
       "      <th>date</th>\n",
       "      <th>id</th>\n",
       "      <th>user</th>\n",
       "      <th>Tweets</th>\n",
       "    </tr>\n",
       "  </thead>\n",
       "  <tbody>\n",
       "    <tr>\n",
       "      <th>0</th>\n",
       "      <td>2022-09-07 23:59:59+00:00</td>\n",
       "      <td>1567664007963676674</td>\n",
       "      <td>{'username': 'Izquierdarevolu', 'id': 15232047...</td>\n",
       "      <td>que quede claro, mas que morenista soy lopezob...</td>\n",
       "    </tr>\n",
       "  </tbody>\n",
       "</table>\n",
       "</div>"
      ],
      "text/plain": [
       "                       date                   id  \\\n",
       "0 2022-09-07 23:59:59+00:00  1567664007963676674   \n",
       "\n",
       "                                                user  \\\n",
       "0  {'username': 'Izquierdarevolu', 'id': 15232047...   \n",
       "\n",
       "                                              Tweets  \n",
       "0  que quede claro, mas que morenista soy lopezob...  "
      ]
     },
     "execution_count": 108,
     "metadata": {},
     "output_type": "execute_result"
    }
   ],
   "source": [
    "triste_clean.head(1)"
   ]
  },
  {
   "cell_type": "code",
   "execution_count": 109,
   "id": "42ddf867",
   "metadata": {},
   "outputs": [
    {
     "ename": "KeyboardInterrupt",
     "evalue": "",
     "output_type": "error",
     "traceback": [
      "\u001b[1;31m---------------------------------------------------------------------------\u001b[0m",
      "\u001b[1;31mKeyboardInterrupt\u001b[0m                         Traceback (most recent call last)",
      "Input \u001b[1;32mIn [109]\u001b[0m, in \u001b[0;36m<cell line: 3>\u001b[1;34m()\u001b[0m\n\u001b[0;32m      1\u001b[0m \u001b[38;5;66;03m# aplico la funcion sentiment_scores\u001b[39;00m\n\u001b[0;32m      2\u001b[0m start_time \u001b[38;5;241m=\u001b[39m datetime\u001b[38;5;241m.\u001b[39mnow()\n\u001b[1;32m----> 3\u001b[0m triste_clean[\u001b[38;5;124m'\u001b[39m\u001b[38;5;124mPolarity\u001b[39m\u001b[38;5;124m'\u001b[39m] \u001b[38;5;241m=\u001b[39m [sentiment_scores(i) \u001b[38;5;28;01mfor\u001b[39;00m i \u001b[38;5;129;01min\u001b[39;00m triste_clean[\u001b[38;5;124m'\u001b[39m\u001b[38;5;124mTweets\u001b[39m\u001b[38;5;124m'\u001b[39m]]\n\u001b[0;32m      4\u001b[0m end_time \u001b[38;5;241m=\u001b[39m datetime\u001b[38;5;241m.\u001b[39mnow()\n\u001b[0;32m      5\u001b[0m \u001b[38;5;28mprint\u001b[39m(\u001b[38;5;124m'\u001b[39m\u001b[38;5;124mDuration: \u001b[39m\u001b[38;5;132;01m{}\u001b[39;00m\u001b[38;5;124m'\u001b[39m\u001b[38;5;241m.\u001b[39mformat(end_time \u001b[38;5;241m-\u001b[39m start_time))\n",
      "Input \u001b[1;32mIn [109]\u001b[0m, in \u001b[0;36m<listcomp>\u001b[1;34m(.0)\u001b[0m\n\u001b[0;32m      1\u001b[0m \u001b[38;5;66;03m# aplico la funcion sentiment_scores\u001b[39;00m\n\u001b[0;32m      2\u001b[0m start_time \u001b[38;5;241m=\u001b[39m datetime\u001b[38;5;241m.\u001b[39mnow()\n\u001b[1;32m----> 3\u001b[0m triste_clean[\u001b[38;5;124m'\u001b[39m\u001b[38;5;124mPolarity\u001b[39m\u001b[38;5;124m'\u001b[39m] \u001b[38;5;241m=\u001b[39m [sentiment_scores(i) \u001b[38;5;28;01mfor\u001b[39;00m i \u001b[38;5;129;01min\u001b[39;00m triste_clean[\u001b[38;5;124m'\u001b[39m\u001b[38;5;124mTweets\u001b[39m\u001b[38;5;124m'\u001b[39m]]\n\u001b[0;32m      4\u001b[0m end_time \u001b[38;5;241m=\u001b[39m datetime\u001b[38;5;241m.\u001b[39mnow()\n\u001b[0;32m      5\u001b[0m \u001b[38;5;28mprint\u001b[39m(\u001b[38;5;124m'\u001b[39m\u001b[38;5;124mDuration: \u001b[39m\u001b[38;5;132;01m{}\u001b[39;00m\u001b[38;5;124m'\u001b[39m\u001b[38;5;241m.\u001b[39mformat(end_time \u001b[38;5;241m-\u001b[39m start_time))\n",
      "\u001b[1;31mKeyboardInterrupt\u001b[0m: "
     ]
    }
   ],
   "source": [
    "# aplico la funcion sentiment_scores\n",
    "start_time = datetime.now()\n",
    "triste_clean['Polarity'] = [sentiment_scores(i) for i in triste_clean['Tweets']]\n",
    "end_time = datetime.now()\n",
    "print('Duration: {}'.format(end_time - start_time))"
   ]
  },
  {
   "cell_type": "code",
   "execution_count": null,
   "id": "3b46faaf",
   "metadata": {},
   "outputs": [],
   "source": [
    ">> empieza 15:14h"
   ]
  },
  {
   "cell_type": "code",
   "execution_count": null,
   "id": "3925c956",
   "metadata": {},
   "outputs": [],
   "source": [
    "triste_clean.head(1)"
   ]
  },
  {
   "cell_type": "code",
   "execution_count": null,
   "id": "0af856bf",
   "metadata": {},
   "outputs": [],
   "source": [
    "triste_polarity = triste_clean.copy()"
   ]
  },
  {
   "cell_type": "code",
   "execution_count": null,
   "id": "5566b57f",
   "metadata": {},
   "outputs": [],
   "source": []
  },
  {
   "cell_type": "code",
   "execution_count": null,
   "id": "83bb281f",
   "metadata": {},
   "outputs": [],
   "source": [
    "Sentiment = []\n",
    "positive_count_sad = 0\n",
    "negative_count_sad = 0"
   ]
  },
  {
   "cell_type": "code",
   "execution_count": null,
   "id": "65b6c442",
   "metadata": {},
   "outputs": [],
   "source": [
    "for item in sad_posneg['Polarity']:\n",
    "    if item >= 0:\n",
    "        positive_count_sad +=1\n",
    "        Sentiment.append(\"Positivo\")\n",
    "    elif item < 0:\n",
    "        negative_count_sad +=1\n",
    "        Sentiment.append(\"Negativo\")"
   ]
  },
  {
   "cell_type": "code",
   "execution_count": null,
   "id": "d2bdd56c",
   "metadata": {},
   "outputs": [],
   "source": [
    "se = pd.Series(Sentiment)\n",
    "triste_polarity['Sentiment'] = se.values"
   ]
  },
  {
   "cell_type": "code",
   "execution_count": null,
   "id": "5364802a",
   "metadata": {},
   "outputs": [],
   "source": [
    "print(\"positivos:\",positive_count_sad)\n",
    "print(\"negativos:\",negative_count_sad)"
   ]
  },
  {
   "cell_type": "code",
   "execution_count": null,
   "id": "730eeecc",
   "metadata": {},
   "outputs": [],
   "source": []
  },
  {
   "cell_type": "code",
   "execution_count": null,
   "id": "2373f3ee",
   "metadata": {},
   "outputs": [],
   "source": [
    "# label encoding\n",
    "\n",
    "label_enc = LabelEncoder()\n",
    "senti_transformada = label_enc.fit_transform(triste_polarity['Sentiment'])\n",
    "triste_polarity['Encoding'] = senti_transformada"
   ]
  },
  {
   "cell_type": "code",
   "execution_count": null,
   "id": "cc8a0ce4",
   "metadata": {},
   "outputs": [],
   "source": [
    "triste_polarity.head(1)"
   ]
  },
  {
   "cell_type": "code",
   "execution_count": null,
   "id": "ecda254b",
   "metadata": {},
   "outputs": [],
   "source": [
    "triste_encoding = triste_polarity.copy()\n",
    "triste_encoding.to_csv(\"triste_encoding.csv\")"
   ]
  },
  {
   "cell_type": "code",
   "execution_count": null,
   "id": "000e5bcc",
   "metadata": {},
   "outputs": [],
   "source": []
  },
  {
   "cell_type": "markdown",
   "id": "8cc14bba",
   "metadata": {},
   "source": [
    "### balanceo de datos"
   ]
  },
  {
   "cell_type": "code",
   "execution_count": null,
   "id": "ddbb1bc1",
   "metadata": {},
   "outputs": [],
   "source": []
  },
  {
   "cell_type": "markdown",
   "id": "b6e0839c",
   "metadata": {},
   "source": [
    "### shuffle al dataframe"
   ]
  },
  {
   "cell_type": "code",
   "execution_count": null,
   "id": "af6b1904",
   "metadata": {},
   "outputs": [],
   "source": [
    "# hasta aqui los datos estan ordenados por polaridad\n",
    "# hay que desordednarlos random con la funcion shuffle\n",
    "\n",
    "df = sklearn.utils.shuffle(final_neg_pos)\n",
    "\n",
    "# Extracting the day from date\n",
    "df['Date'] = pd.to_datetime(df['Date'],format='%Y%m%d %H:%M:%S.%f')\n",
    "df['Day'] = df['Date'].dt.date\n",
    "df = df.drop(\"Date\",axis=1)\n",
    "cols = df.columns.tolist()\n",
    "cols2 = ['Day','Tweets','Polarity','Sentiment','Encoding']\n",
    "df = df[cols2]\n",
    "\n",
    "# lo guardo como csv\n",
    "# es el df que usare en el modelo de machine learning\n",
    "df.to_csv(\"df.csv\")"
   ]
  }
 ],
 "metadata": {
  "kernelspec": {
   "display_name": "Python 3 (ipykernel)",
   "language": "python",
   "name": "python3"
  },
  "language_info": {
   "codemirror_mode": {
    "name": "ipython",
    "version": 3
   },
   "file_extension": ".py",
   "mimetype": "text/x-python",
   "name": "python",
   "nbconvert_exporter": "python",
   "pygments_lexer": "ipython3",
   "version": "3.9.7"
  },
  "toc": {
   "base_numbering": 1,
   "nav_menu": {},
   "number_sections": true,
   "sideBar": true,
   "skip_h1_title": false,
   "title_cell": "Table of Contents",
   "title_sidebar": "Contents",
   "toc_cell": false,
   "toc_position": {},
   "toc_section_display": true,
   "toc_window_display": false
  }
 },
 "nbformat": 4,
 "nbformat_minor": 5
}

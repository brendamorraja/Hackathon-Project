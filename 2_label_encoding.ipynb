{
  "cells": [
    {
      "cell_type": "code",
      "source": [
        "from src import *\n",
        "pd.set_option('display.max_rows', None)"
      ],
      "metadata": {
        "id": "y1euWt-pXBUm"
      },
      "id": "y1euWt-pXBUm",
      "execution_count": null,
      "outputs": []
    },
    {
      "cell_type": "markdown",
      "id": "83141856",
      "metadata": {
        "id": "83141856"
      },
      "source": [
        "### label encoding"
      ]
    },
    {
      "cell_type": "code",
      "execution_count": null,
      "id": "e3dedee1",
      "metadata": {
        "id": "e3dedee1"
      },
      "outputs": [],
      "source": [
        "sentiment_hachathon = pd.read_csv('sentiment_hackathon.csv')"
      ]
    },
    {
      "cell_type": "code",
      "execution_count": null,
      "id": "b2f0f10b",
      "metadata": {
        "id": "b2f0f10b"
      },
      "outputs": [],
      "source": [
        "Sentiment = []\n",
        "positive_count_sad = 0\n",
        "negative_count_sad = 0"
      ]
    },
    {
      "cell_type": "code",
      "execution_count": null,
      "id": "035ebee9",
      "metadata": {
        "id": "035ebee9"
      },
      "outputs": [],
      "source": [
        "for item in senti_07['Polarity']:\n",
        "    if item >= 0:\n",
        "        positive_count_sad +=1\n",
        "        Sentiment.append(\"Positivo\")\n",
        "    elif item < 0:\n",
        "        negative_count_sad +=1\n",
        "        Sentiment.append(\"Negativo\")\n",
        "\n",
        "se = pd.Series(Sentiment)\n",
        "sentiment_hachathon['Sentiment'] = se.values\n",
        "\n",
        "# Label encoding\n",
        "label_enc = LabelEncoder()\n",
        "senti_transformada = label_enc.fit_transform(sentiment_hachathon['Sentiment'])\n",
        "sentiment_hachathon['Encoding'] = senti_transformada"
      ]
    },
    {
      "cell_type": "markdown",
      "id": "914e73b6",
      "metadata": {
        "id": "914e73b6"
      },
      "source": [
        "### balanceo de datos"
      ]
    },
    {
      "cell_type": "code",
      "execution_count": null,
      "id": "41875d4c",
      "metadata": {
        "id": "41875d4c"
      },
      "outputs": [],
      "source": [
        "df_shuffle = sklearn.utils.shuffle(df_final)\n",
        "\n",
        "# Extracting the day from date\n",
        "df_shuffle['date'] = pd.to_datetime(df_shuffle['date'],format='%Y%m%d %H:%M:%S.%f')\n",
        "df_shuffle['Day'] = df_shuffle['date'].dt.date\n",
        "df_shuffle = df_shuffle.drop(\"date\",axis=1)\n",
        "cols = df_shuffle.columns.tolist()\n",
        "cols2 = ['Day','id','user','Tweets','Polarity','Sentiment','Encoding']\n",
        "df_shuffle = df_shuffle[cols2]\n",
        "\n",
        "df_shuffle.to_csv(\"df_shuffle.csv\")\n",
        "print(\"guardado\")"
      ]
    },
    {
      "cell_type": "markdown",
      "id": "7e0d4feb",
      "metadata": {
        "id": "7e0d4feb"
      },
      "source": [
        "### shuffle"
      ]
    },
    {
      "cell_type": "code",
      "execution_count": null,
      "id": "1e90a54b",
      "metadata": {
        "id": "1e90a54b",
        "outputId": "5ae70d10-f392-4a97-b639-8a6abc980e0b"
      },
      "outputs": [
        {
          "name": "stdout",
          "output_type": "stream",
          "text": [
            "Negativo    53758\n",
            "Name: Sentiment, dtype: int64\n"
          ]
        }
      ],
      "source": [
        "negativos = df_shuffle.loc[df_shuffle['Sentiment']==\"Negativo\"]\n",
        "print(negativos['Sentiment'].value_counts())"
      ]
    },
    {
      "cell_type": "code",
      "execution_count": null,
      "id": "ccc27490",
      "metadata": {
        "id": "ccc27490",
        "outputId": "91b22e36-6813-46b9-aaf4-cb15bd9ea867"
      },
      "outputs": [
        {
          "name": "stdout",
          "output_type": "stream",
          "text": [
            "Positivo    86242\n",
            "Name: Sentiment, dtype: int64\n"
          ]
        }
      ],
      "source": [
        "positivos = df_shuffle.loc[df_shuffle['Sentiment']==\"Positivo\"]\n",
        "print(positivos['Sentiment'].value_counts())"
      ]
    },
    {
      "cell_type": "code",
      "execution_count": null,
      "id": "6dce746f",
      "metadata": {
        "id": "6dce746f",
        "outputId": "64648e45-c783-4326-8ccf-65cd4f2924fb"
      },
      "outputs": [
        {
          "name": "stdout",
          "output_type": "stream",
          "text": [
            "Positivo    53758\n",
            "Name: Sentiment, dtype: int64\n"
          ]
        }
      ],
      "source": [
        "positivos = positivos.sort_values(by=\"Polarity\",ascending=False)\n",
        "positivos = positivos.iloc[:53758]\n",
        "print(positivos['Sentiment'].value_counts())"
      ]
    },
    {
      "cell_type": "code",
      "execution_count": null,
      "id": "5869bd72",
      "metadata": {
        "id": "5869bd72",
        "outputId": "e703156e-4eaa-45e9-8f00-8b313b75f26f"
      },
      "outputs": [
        {
          "name": "stdout",
          "output_type": "stream",
          "text": [
            "<class 'pandas.core.frame.DataFrame'>\n",
            "Int64Index: 107516 entries, 7333 to 9980\n",
            "Data columns (total 7 columns):\n",
            " #   Column     Non-Null Count   Dtype  \n",
            "---  ------     --------------   -----  \n",
            " 0   Day        107516 non-null  object \n",
            " 1   id         107516 non-null  int64  \n",
            " 2   user       107516 non-null  object \n",
            " 3   Tweets     107516 non-null  object \n",
            " 4   Polarity   107516 non-null  float64\n",
            " 5   Sentiment  107516 non-null  object \n",
            " 6   Encoding   107516 non-null  int64  \n",
            "dtypes: float64(1), int64(2), object(4)\n",
            "memory usage: 6.6+ MB\n"
          ]
        }
      ],
      "source": [
        "df_final_l = (positivos,negativos)\n",
        "df_final = pd.concat(df_final_l)\n",
        "df_final.info()"
      ]
    },
    {
      "cell_type": "code",
      "execution_count": null,
      "id": "817cee2f",
      "metadata": {
        "id": "817cee2f",
        "outputId": "7a3a4f17-e390-4223-e1ae-a20673e8e2a2"
      },
      "outputs": [
        {
          "name": "stdout",
          "output_type": "stream",
          "text": [
            "guardado\n"
          ]
        }
      ],
      "source": [
        "df = sklearn.utils.shuffle(df_final)\n",
        "df.to_csv(\"df.csv\")\n",
        "print(\"guardado\")"
      ]
    }
  ],
  "metadata": {
    "kernelspec": {
      "display_name": "Python 3 (ipykernel)",
      "language": "python",
      "name": "python3"
    },
    "language_info": {
      "codemirror_mode": {
        "name": "ipython",
        "version": 3
      },
      "file_extension": ".py",
      "mimetype": "text/x-python",
      "name": "python",
      "nbconvert_exporter": "python",
      "pygments_lexer": "ipython3",
      "version": "3.9.7"
    },
    "toc": {
      "base_numbering": 1,
      "nav_menu": {},
      "number_sections": true,
      "sideBar": true,
      "skip_h1_title": false,
      "title_cell": "Table of Contents",
      "title_sidebar": "Contents",
      "toc_cell": false,
      "toc_position": {},
      "toc_section_display": true,
      "toc_window_display": false
    },
    "colab": {
      "provenance": []
    }
  },
  "nbformat": 4,
  "nbformat_minor": 5
}
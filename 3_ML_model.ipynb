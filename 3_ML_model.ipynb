{
  "cells": [
    {
      "cell_type": "code",
      "execution_count": null,
      "id": "1ea55a43",
      "metadata": {
        "id": "1ea55a43"
      },
      "outputs": [],
      "source": [
        "from scr import *\n",
        "pd.set_option('display.max_rows', None)"
      ]
    },
    {
      "cell_type": "markdown",
      "id": "23b20a32",
      "metadata": {
        "id": "23b20a32"
      },
      "source": [
        "### dataset"
      ]
    },
    {
      "cell_type": "code",
      "execution_count": null,
      "id": "f95d4ac4",
      "metadata": {
        "id": "f95d4ac4",
        "outputId": "41f81713-d192-4aa1-a2bb-9330fd48ce97"
      },
      "outputs": [
        {
          "name": "stdout",
          "output_type": "stream",
          "text": [
            "1    53758\n",
            "0    53758\n",
            "Name: target, dtype: int64\n",
            "Hay nulos? False\n",
            "Filas, columnas: (107516, 5)\n"
          ]
        },
        {
          "data": {
            "text/plain": [
              "<AxesSubplot:xlabel='target', ylabel='count'>"
            ]
          },
          "execution_count": 4,
          "metadata": {},
          "output_type": "execute_result"
        },
        {
          "data": {
            "image/png": "[encoded data removed]",
            "text/plain": [
              "<Figure size 432x288 with 1 Axes>"
            ]
          },
          "metadata": {
            "needs_background": "light"
          },
          "output_type": "display_data"
        }
      ],
      "source": [
        "dfr = pd.read_csv(\"df.csv\")\n",
        "dfr = dfr.drop(\"Unnamed: 0\",axis=1)\n",
        "\n",
        "df = dfr.copy()\n",
        "df = df.drop(['Polarity','Sentiment'],axis=1)\n",
        "df = df.rename(columns={'Tweets':'text','Encoding':'target'})\n",
        "print(df.target.value_counts())\n",
        "print(\"Hay nulos?\", df.isnull().values.any())\n",
        "print(\"Filas, columnas:\", df.shape)\n",
        "sns.countplot(x=\"target\", data= df)"
      ]
    },
    {
      "cell_type": "code",
      "execution_count": null,
      "id": "680e39ac",
      "metadata": {
        "id": "680e39ac"
      },
      "outputs": [],
      "source": []
    },
    {
      "cell_type": "markdown",
      "id": "79a79937",
      "metadata": {
        "id": "79a79937"
      },
      "source": [
        "### pre proceso"
      ]
    },
    {
      "cell_type": "code",
      "execution_count": null,
      "id": "ea6c9aec",
      "metadata": {
        "id": "ea6c9aec",
        "outputId": "ce941cee-515a-4fd4-8d20-29ffedf57d49"
      },
      "outputs": [
        {
          "name": "stdout",
          "output_type": "stream",
          "text": [
            "Limpiando los datos...\n",
            "Datos limpios: \n",
            "          Day                   id  \\\n",
            "0  2022-09-10  1568741009739194368   \n",
            "1  2022-09-10  1568745232933572614   \n",
            "2  2022-09-07  1567655678180827137   \n",
            "3  2022-09-15  1570554612977119232   \n",
            "4  2022-09-11  1569109599281881089   \n",
            "\n",
            "                                                user  \\\n",
            "0  {'username': 'jacobs_mati', 'id': 144076163596...   \n",
            "1  {'username': 'Alfredo97782022', 'id': 15202202...   \n",
            "2  {'username': 'ilvsagust', 'id': 13030652818294...   \n",
            "3  {'username': 'Elixerily', 'id': 14097057941746...   \n",
            "4  {'username': 'lorcat99', 'id': 819628445235875...   \n",
            "\n",
            "                                                text  target  \n",
            "0  en serio cree q lo volvere ver solo pq tiene s...       1  \n",
            "1  jose ramon segun tu porque los usa engana con ...       1  \n",
            "2            yo estoy hablando enserio solo ignorame       1  \n",
            "3      amigo sabia que cashapp es solo para 2 paises       0  \n",
            "4    creo q solo sirve para si se te pierde el movil       1  \n"
          ]
        }
      ],
      "source": [
        "print(\"Limpiando los datos...\")\n",
        "df.text = df.text.apply(lambda x: clean_text(x))\n",
        "print(\"Datos limpios: \")\n",
        "print(df.head())"
      ]
    },
    {
      "cell_type": "code",
      "execution_count": null,
      "id": "bf36463a",
      "metadata": {
        "id": "bf36463a"
      },
      "outputs": [],
      "source": []
    },
    {
      "cell_type": "markdown",
      "id": "e5d32c98",
      "metadata": {
        "id": "e5d32c98"
      },
      "source": [
        "### split de datos"
      ]
    },
    {
      "cell_type": "code",
      "execution_count": null,
      "id": "45ebccc0",
      "metadata": {
        "id": "45ebccc0",
        "outputId": "70154189-547e-4af7-a4be-6de3d149b9f2"
      },
      "outputs": [
        {
          "name": "stdout",
          "output_type": "stream",
          "text": [
            "Train data distr:\n",
            " 1    43006\n",
            "0    43006\n",
            "Name: target, dtype: int64\n",
            "Test data distr:\n",
            " 0    10752\n",
            "1    10752\n",
            "Name: target, dtype: int64\n"
          ]
        }
      ],
      "source": [
        "# split the data into train set (80%) and test set (20%)\n",
        "train_size = 0.8\n",
        "train_data, test_data = train_test_split(df, test_size = 1 - train_size, random_state = 0, stratify = df.target)\n",
        "# how many examples of each class there is in each set\n",
        "print(\"Train data distr:\\n\", train_data.target.value_counts())\n",
        "print(\"Test data distr:\\n\", test_data.target.value_counts())"
      ]
    },
    {
      "cell_type": "code",
      "execution_count": null,
      "id": "cee7ce2f",
      "metadata": {
        "id": "cee7ce2f"
      },
      "outputs": [],
      "source": [
        "# Ensure the encoder\n",
        "encoder = LabelEncoder()\n",
        "# enconde labels (0 or 1) in train data\n",
        "encoder.fit(train_data.target.to_list())\n",
        "\n",
        "# transform labels in y_train and y_test data to the encoded ones\n",
        "y_train = encoder.transform(train_data.target.to_list())\n",
        "y_test = encoder.transform(test_data.target.to_list())\n",
        "\n",
        "# reshape y_train and y_test data\n",
        "y_train = y_train.reshape(-1, 1)\n",
        "y_test = y_test.reshape(-1, 1)"
      ]
    },
    {
      "cell_type": "markdown",
      "id": "fdf6c2a2",
      "metadata": {
        "id": "fdf6c2a2"
      },
      "source": [
        "### tokenizer"
      ]
    },
    {
      "cell_type": "code",
      "execution_count": null,
      "id": "df5db581",
      "metadata": {
        "id": "df5db581"
      },
      "outputs": [],
      "source": [
        "# create a tokenizer\n",
        "tokenizer = Tokenizer()\n",
        "# fit the tokenizer in the train text\n",
        "tokenizer.fit_on_texts(train_data.text)\n",
        "# save the tokenizer as a pickle to use it later in the testing part\n",
        "with open('tokenizer.pickle', 'wb') as handle:\n",
        "    pickle.dump(tokenizer, handle, protocol = pickle.HIGHEST_PROTOCOL)"
      ]
    },
    {
      "cell_type": "markdown",
      "id": "86da0730",
      "metadata": {
        "id": "86da0730"
      },
      "source": [
        "### padding"
      ]
    },
    {
      "cell_type": "code",
      "execution_count": null,
      "id": "3b2836c8",
      "metadata": {
        "id": "3b2836c8"
      },
      "outputs": [],
      "source": [
        "# Getting the maximum length of the train data\n",
        "max_length = max([len(s.split()) for s in train_data.text])\n",
        "\n",
        "# pad sequences in x_train data set to the max length\n",
        "x_train = pad_sequences(tokenizer.texts_to_sequences(train_data.text),\n",
        "                        maxlen = max_length)\n",
        "# pad sequences in x_test data set to the max length\n",
        "x_test = pad_sequences(tokenizer.texts_to_sequences(test_data.text),\n",
        "                       maxlen = max_length)"
      ]
    },
    {
      "cell_type": "markdown",
      "id": "1a02e9d4",
      "metadata": {
        "id": "1a02e9d4"
      },
      "source": [
        "### word embeding modelo pre entrenado"
      ]
    },
    {
      "cell_type": "code",
      "execution_count": null,
      "id": "1515ce60",
      "metadata": {
        "id": "1515ce60",
        "outputId": "6c6dbe46-b4d3-46cc-ebd5-7050e69a7d1b"
      },
      "outputs": [
        {
          "name": "stdout",
          "output_type": "stream",
          "text": [
            "Vocab size:  88071\n",
            "Max length:  61\n"
          ]
        }
      ],
      "source": [
        "vocab = tokenizer.word_index\n",
        "vocab_size = len(tokenizer.word_index) + 1\n",
        "embedding_dim = 300\n",
        "\n",
        "print(\"Vocab size: \", vocab_size)\n",
        "print(\"Max length: \", max_length)"
      ]
    },
    {
      "cell_type": "code",
      "execution_count": null,
      "id": "5b972707",
      "metadata": {
        "id": "5b972707"
      },
      "outputs": [],
      "source": [
        "# uso un modelo pre entrenado de word vectors en español\n",
        "# que se llama SBW-vectors-300-min5 y tiene dim 300\n",
        "\n",
        "embeddings_dictionary = dict()\n",
        "glove_file = open('SBW.vectors.300d.txt', encoding=\"utf8\")\n",
        "\n",
        "for line in glove_file:\n",
        "    records = line.split()\n",
        "    word = records[0]\n",
        "    vector_dimensions = asarray(records[1:], dtype='float32')\n",
        "    embeddings_dictionary [word] = vector_dimensions\n",
        "glove_file.close()"
      ]
    },
    {
      "cell_type": "code",
      "execution_count": null,
      "id": "5cedc8c5",
      "metadata": {
        "id": "5cedc8c5"
      },
      "outputs": [],
      "source": [
        "embedding_matrix = zeros((vocab_size, 300))\n",
        "for word, index in tokenizer.word_index.items():\n",
        "    embedding_vector = embeddings_dictionary.get(word)\n",
        "    if embedding_vector is not None:\n",
        "        embedding_matrix[index] = embedding_vector"
      ]
    },
    {
      "cell_type": "code",
      "execution_count": null,
      "id": "389f4273",
      "metadata": {
        "id": "389f4273"
      },
      "outputs": [],
      "source": [
        "from keras.layers import LSTM\n",
        "import tensorflow_addons as tfa\n",
        "from numpy.random import seed\n",
        "seed(1)\n",
        "import tensorflow\n",
        "tensorflow.random.set_seed(2)\n",
        "f1 = tfa.metrics.F1Score(36,'micro' or 'macro')\n",
        "\n",
        "model = Sequential()\n",
        "embedding_layer = Embedding(vocab_size, 300, weights=[embedding_matrix], input_length=61)\n",
        "model.add(embedding_layer)\n",
        "model.add(LSTM(128))\n",
        "\n",
        "model.add(Dense(1, activation='sigmoid'))\n",
        "model.compile(optimizer='adam', loss='binary_crossentropy', metrics=['accuracy'])"
      ]
    },
    {
      "cell_type": "code",
      "execution_count": null,
      "id": "47e71960",
      "metadata": {
        "id": "47e71960",
        "outputId": "fff3a71d-c2a8-4562-dd58-9dbe6b874927"
      },
      "outputs": [
        {
          "name": "stdout",
          "output_type": "stream",
          "text": [
            "Model: \"sequential_1\"\n",
            "_________________________________________________________________\n",
            " Layer (type)                Output Shape              Param #   \n",
            "=================================================================\n",
            " embedding (Embedding)       (None, 61, 300)           26421300  \n",
            "                                                                 \n",
            " lstm (LSTM)                 (None, 128)               219648    \n",
            "                                                                 \n",
            " dense (Dense)               (None, 1)                 129       \n",
            "                                                                 \n",
            "=================================================================\n",
            "Total params: 26,641,077\n",
            "Trainable params: 26,641,077\n",
            "Non-trainable params: 0\n",
            "_________________________________________________________________\n",
            "None\n"
          ]
        }
      ],
      "source": [
        "print(model.summary())"
      ]
    },
    {
      "cell_type": "code",
      "execution_count": null,
      "id": "124a7528",
      "metadata": {
        "id": "124a7528",
        "outputId": "79ea4f28-0e3b-4ac7-c996-8fe79bfaf607"
      },
      "outputs": [
        {
          "name": "stdout",
          "output_type": "stream",
          "text": [
            "Epoch 1/8\n",
            "76/76 [==============================] - 133s 2s/step - loss: 0.6114 - accuracy: 0.6588 - val_loss: 0.6642 - val_accuracy: 0.6042\n",
            "Epoch 2/8\n",
            "76/76 [==============================] - 147s 2s/step - loss: 0.5226 - accuracy: 0.7363 - val_loss: 0.7409 - val_accuracy: 0.5759\n",
            "Epoch 3/8\n",
            "76/76 [==============================] - 149s 2s/step - loss: 0.3780 - accuracy: 0.8279 - val_loss: 0.8785 - val_accuracy: 0.5759\n",
            "Epoch 4/8\n",
            "76/76 [==============================] - 149s 2s/step - loss: 0.2655 - accuracy: 0.8809 - val_loss: 1.0669 - val_accuracy: 0.5638\n",
            "Epoch 5/8\n",
            "76/76 [==============================] - 147s 2s/step - loss: 0.1948 - accuracy: 0.9120 - val_loss: 1.2882 - val_accuracy: 0.5584\n",
            "Epoch 6/8\n",
            "76/76 [==============================] - 154s 2s/step - loss: 0.1513 - accuracy: 0.9314 - val_loss: 1.5054 - val_accuracy: 0.5609\n",
            "Epoch 7/8\n",
            "76/76 [==============================] - 154s 2s/step - loss: 0.1233 - accuracy: 0.9437 - val_loss: 1.7541 - val_accuracy: 0.5603\n",
            "Epoch 8/8\n",
            "76/76 [==============================] - 156s 2s/step - loss: 0.1030 - accuracy: 0.9516 - val_loss: 2.0720 - val_accuracy: 0.5602\n",
            "Duration: 0:19:48.282135\n"
          ]
        }
      ],
      "source": [
        "start_time = datetime.now()\n",
        "\n",
        "history = model.fit(x_train,\n",
        "                    y_train,\n",
        "                    batch_size=1024,\n",
        "                    epochs=8,\n",
        "                    validation_split=0.1,\n",
        "                    verbose=1)\n",
        "\n",
        "end_time = datetime.now()\n",
        "print('Duration: {}'.format(end_time - start_time))"
      ]
    },
    {
      "cell_type": "code",
      "source": [
        "model.save('my_model.h5')\n",
        "with open('pick_plantilla_fit8.pickle', 'wb') as handle:\n",
        "    pickle.dump(tokenizer, handle, protocol = pickle.HIGHEST_PROTOCOL)"
      ],
      "metadata": {
        "id": "nrxbvqFnbrdn"
      },
      "id": "nrxbvqFnbrdn",
      "execution_count": null,
      "outputs": []
    },
    {
      "cell_type": "markdown",
      "id": "136d5e27",
      "metadata": {
        "id": "136d5e27"
      },
      "source": [
        "### testear el modelo"
      ]
    },
    {
      "cell_type": "code",
      "source": [
        "score = model.evaluate(x_test, y_test, batch_size = 1024)\n",
        "model.save('model_final_plantilla8.h5')"
      ],
      "metadata": {
        "id": "re17zkjJb5Dk"
      },
      "id": "re17zkjJb5Dk",
      "execution_count": null,
      "outputs": []
    },
    {
      "cell_type": "markdown",
      "id": "cd97fbae",
      "metadata": {
        "id": "cd97fbae"
      },
      "source": [
        "### model predict"
      ]
    },
    {
      "cell_type": "code",
      "execution_count": null,
      "id": "bd5c96e3",
      "metadata": {
        "id": "bd5c96e3"
      },
      "outputs": [],
      "source": [
        "from keras.models import load_model"
      ]
    },
    {
      "cell_type": "code",
      "execution_count": null,
      "id": "01b9c4d4",
      "metadata": {
        "id": "01b9c4d4"
      },
      "outputs": [],
      "source": [
        "# decode score prediction from the model, to be 0 or 1\n",
        "def decode_prediction(prediction):\n",
        "    return 'Negative' if prediction < 0.5 else 'Positive'\n",
        "\n",
        "# load model\n",
        "model = load_model('model_final_plantilla8.h5')\n",
        "# loading tokenizer\n",
        "with open('tokenizer.pickle', 'rb') as handle:\n",
        "    tokenizer = pickle.load(handle)"
      ]
    },
    {
      "cell_type": "code",
      "execution_count": null,
      "id": "c40b54c0",
      "metadata": {
        "id": "c40b54c0",
        "outputId": "b0965566-1648-4ae4-e645-daad6984bf4d"
      },
      "outputs": [
        {
          "name": "stdout",
          "output_type": "stream",
          "text": [
            "2688/2688 [==============================] - 120s 44ms/step\n",
            "672/672 [==============================] - 30s 44ms/step\n",
            "672/672 [==============================] - 33s 50ms/step\n"
          ]
        }
      ],
      "source": [
        "predictions_nn_train = model.predict(x_train)\n",
        "predictions_nn_test = model.predict(x_test)\n",
        "y_pred = np.around(model.predict(x_test))"
      ]
    },
    {
      "cell_type": "code",
      "execution_count": null,
      "id": "5fba2b37",
      "metadata": {
        "id": "5fba2b37"
      },
      "outputs": [],
      "source": [
        "lista = ('matar','morir','suicidar','suicidarme','suicidio','pistola','ahorcar','muerto','muerte','deprimido', 'humillado','triste','sufrimiento','infeliz')"
      ]
    },
    {
      "cell_type": "code",
      "execution_count": null,
      "id": "3f10c34c",
      "metadata": {
        "id": "3f10c34c",
        "outputId": "78edc91a-087a-4d5f-9455-a18b33e52faf"
      },
      "outputs": [
        {
          "name": "stdout",
          "output_type": "stream",
          "text": [
            "Duration: 0:00:04.130527\n",
            "guardado\n"
          ]
        }
      ],
      "source": [
        "since = '2022-09-21'\n",
        "until = '2022-09-22'\n",
        "max_tweets = 100\n",
        "lista = lista\n",
        "\n",
        "start_time = datetime.now()\n",
        "\n",
        "predict = scraper(lista,max_tweets,since,until)\n",
        "end_time = datetime.now()\n",
        "print('Duration: {}'.format(end_time - start_time))\n",
        "\n",
        "predict.to_csv(\"predict.csv\")\n",
        "print(\"guardado\")"
      ]
    },
    {
      "cell_type": "code",
      "execution_count": null,
      "id": "8ffedbed",
      "metadata": {
        "id": "8ffedbed"
      },
      "outputs": [],
      "source": [
        "predict.drop(['url',\n",
        "                  'renderedContent',\n",
        "                  'replyCount',\n",
        "                  'retweetCount',\n",
        "                  'likeCount',\n",
        "                  'quoteCount',\n",
        "                  'conversationId',\n",
        "                  'lang',\n",
        "                  'source',\n",
        "                  'sourceUrl',\n",
        "                  'sourceLabel',\n",
        "                  'links',\n",
        "                  'media',\n",
        "                  'retweetedTweet',\n",
        "                  'quotedTweet',\n",
        "                  'inReplyToTweetId',\n",
        "                  'inReplyToUser',\n",
        "                  'mentionedUsers',\n",
        "                  'coordinates',\n",
        "                  'place',\n",
        "                  'hashtags',\n",
        "                  'cashtags',\n",
        "                  'card'\n",
        "                 ],axis=1,inplace=True)"
      ]
    },
    {
      "cell_type": "code",
      "execution_count": null,
      "id": "a0c59de4",
      "metadata": {
        "id": "a0c59de4"
      },
      "outputs": [],
      "source": [
        "predict = predict.rename({'rawContent':'Text'},axis=1)\n",
        "df = predict.copy()"
      ]
    },
    {
      "cell_type": "code",
      "source": [
        "x = range(100)\n",
        "predict = []\n",
        "lab = []\n",
        "for tweet in df.Text:\n",
        "    # clean query text\n",
        "    input_text = clean_text(tweet)\n",
        "    # tokenize and pad query test as in training\n",
        "    input_text = pad_sequences(tokenizer.texts_to_sequences([input_text]),\n",
        "                            maxlen = max_length)\n",
        "\n",
        "    # get model prediction\n",
        "    prediction = model.predict([input_text])[0]\n",
        "    predict.append(prediction)\n",
        "    # get decode prediction\n",
        "    label = decode_prediction(prediction)\n",
        "    lab.append(label)\n",
        "\n",
        "numero_predict = []\n",
        "numero_predict = [predict[i][0] for i in x]"
      ],
      "metadata": {
        "id": "Y1GVH1fKcnP6"
      },
      "id": "Y1GVH1fKcnP6",
      "execution_count": null,
      "outputs": []
    },
    {
      "cell_type": "code",
      "execution_count": null,
      "id": "76b8174c",
      "metadata": {
        "id": "76b8174c"
      },
      "outputs": [],
      "source": [
        "df_pred = df.copy()\n",
        "df_pred['Pred_Sentiment'] = lab\n",
        "df_pred['Pred_Score'] = numero_predict\n",
        "df_pred.sort_values(by=\"Pred_Score\",ascending=True)"
      ]
    },
    {
      "cell_type": "code",
      "execution_count": null,
      "id": "9ec837b5",
      "metadata": {
        "id": "9ec837b5"
      },
      "outputs": [],
      "source": [
        "for i in dfs.Text:\n",
        "    remove_usernames_links(i)"
      ]
    }
  ],
  "metadata": {
    "kernelspec": {
      "display_name": "Python 3 (ipykernel)",
      "language": "python",
      "name": "python3"
    },
    "language_info": {
      "codemirror_mode": {
        "name": "ipython",
        "version": 3
      },
      "file_extension": ".py",
      "mimetype": "text/x-python",
      "name": "python",
      "nbconvert_exporter": "python",
      "pygments_lexer": "ipython3",
      "version": "3.9.7"
    },
    "toc": {
      "base_numbering": 1,
      "nav_menu": {},
      "number_sections": true,
      "sideBar": true,
      "skip_h1_title": false,
      "title_cell": "Table of Contents",
      "title_sidebar": "Contents",
      "toc_cell": false,
      "toc_position": {},
      "toc_section_display": true,
      "toc_window_display": false
    },
    "colab": {
      "provenance": []
    }
  },
  "nbformat": 4,
  "nbformat_minor": 5
}